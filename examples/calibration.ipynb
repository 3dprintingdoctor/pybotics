{
 "cells": [
  {
   "cell_type": "markdown",
   "metadata": {},
   "source": [
    "# Imports & Setup"
   ]
  },
  {
   "cell_type": "code",
   "execution_count": 1,
   "metadata": {},
   "outputs": [],
   "source": [
    "# pybotics imports\n",
    "from pybotics import Robot, KinematicChain, LinkConvention, RobotOptimizationMask\n",
    "from pybotics.calibration import compute_absolute_errors\n",
    "from pybotics.robot_model import UR10\n",
    "\n",
    "# arrays, vectors, and matrices\n",
    "import numpy as np\n",
    "np.set_printoptions(suppress=True)\n",
    "\n",
    "# data display and visualization\n",
    "import pandas as pd\n",
    "pd.set_option('precision', 3)\n",
    "from matplotlib import pyplot as plt\n",
    "%matplotlib inline\n",
    "\n",
    "# robot model copying for different stages\n",
    "from copy import deepcopy\n",
    "\n",
    "# calibration and optimization\n",
    "import scipy.optimize\n",
    "from sklearn.model_selection import train_test_split"
   ]
  },
  {
   "cell_type": "markdown",
   "metadata": {},
   "source": [
    "# Initialize Robot Models"
   ]
  },
  {
   "cell_type": "markdown",
   "metadata": {},
   "source": [
    "## Nominal Robot\n",
    "- A nominal robot model represents what the robot manufacturer intended as a kinematic model\n",
    "    - It is mathematically ideal"
   ]
  },
  {
   "cell_type": "code",
   "execution_count": 2,
   "metadata": {},
   "outputs": [],
   "source": [
    "nominal_robot = UR10()"
   ]
  },
  {
   "cell_type": "code",
   "execution_count": 3,
   "metadata": {},
   "outputs": [
    {
     "data": {
      "text/html": [
       "<div>\n",
       "<style scoped>\n",
       "    .dataframe tbody tr th:only-of-type {\n",
       "        vertical-align: middle;\n",
       "    }\n",
       "\n",
       "    .dataframe tbody tr th {\n",
       "        vertical-align: top;\n",
       "    }\n",
       "\n",
       "    .dataframe thead th {\n",
       "        text-align: right;\n",
       "    }\n",
       "</style>\n",
       "<table border=\"1\" class=\"dataframe\">\n",
       "  <thead>\n",
       "    <tr style=\"text-align: right;\">\n",
       "      <th></th>\n",
       "      <th>alpha</th>\n",
       "      <th>a</th>\n",
       "      <th>theta</th>\n",
       "      <th>d</th>\n",
       "    </tr>\n",
       "  </thead>\n",
       "  <tbody>\n",
       "    <tr>\n",
       "      <th>0</th>\n",
       "      <td>0.000</td>\n",
       "      <td>0.0</td>\n",
       "      <td>0.000</td>\n",
       "      <td>118.0</td>\n",
       "    </tr>\n",
       "    <tr>\n",
       "      <th>1</th>\n",
       "      <td>1.571</td>\n",
       "      <td>0.0</td>\n",
       "      <td>3.142</td>\n",
       "      <td>0.0</td>\n",
       "    </tr>\n",
       "    <tr>\n",
       "      <th>2</th>\n",
       "      <td>0.000</td>\n",
       "      <td>612.7</td>\n",
       "      <td>0.000</td>\n",
       "      <td>0.0</td>\n",
       "    </tr>\n",
       "    <tr>\n",
       "      <th>3</th>\n",
       "      <td>0.000</td>\n",
       "      <td>571.6</td>\n",
       "      <td>0.000</td>\n",
       "      <td>163.9</td>\n",
       "    </tr>\n",
       "    <tr>\n",
       "      <th>4</th>\n",
       "      <td>-1.571</td>\n",
       "      <td>0.0</td>\n",
       "      <td>0.000</td>\n",
       "      <td>115.7</td>\n",
       "    </tr>\n",
       "    <tr>\n",
       "      <th>5</th>\n",
       "      <td>1.571</td>\n",
       "      <td>0.0</td>\n",
       "      <td>3.142</td>\n",
       "      <td>92.2</td>\n",
       "    </tr>\n",
       "  </tbody>\n",
       "</table>\n",
       "</div>"
      ],
      "text/plain": [
       "   alpha      a  theta      d\n",
       "0  0.000    0.0  0.000  118.0\n",
       "1  1.571    0.0  3.142    0.0\n",
       "2  0.000  612.7  0.000    0.0\n",
       "3  0.000  571.6  0.000  163.9\n",
       "4 -1.571    0.0  0.000  115.7\n",
       "5  1.571    0.0  3.142   92.2"
      ]
     },
     "metadata": {},
     "output_type": "display_data"
    }
   ],
   "source": [
    "display(\n",
    "    pd.DataFrame(\n",
    "        nominal_robot.kinematic_chain.vector.reshape(nominal_robot.num_dof,-1),\n",
    "        columns=('alpha', 'a', 'theta', 'd'))\n",
    ")"
   ]
  },
  {
   "cell_type": "markdown",
   "metadata": {},
   "source": [
    "## *Real* Robot\n",
    "- *Real* robots do not conform perfectly to the nominal parameters\n",
    "- Sources of errors include, but are not limited to:\n",
    "    - Kinematic errors\n",
    "        - Mechanical tolerances\n",
    "        - Angle offsets\n",
    "    - Non-kinematic errors\n",
    "        - Joint stiffness\n",
    "        - Gravity\n",
    "        - Temperature\n",
    "        - Friction"
   ]
  },
  {
   "cell_type": "code",
   "execution_count": 4,
   "metadata": {},
   "outputs": [
    {
     "data": {
      "text/html": [
       "<div>\n",
       "<style scoped>\n",
       "    .dataframe tbody tr th:only-of-type {\n",
       "        vertical-align: middle;\n",
       "    }\n",
       "\n",
       "    .dataframe tbody tr th {\n",
       "        vertical-align: top;\n",
       "    }\n",
       "\n",
       "    .dataframe thead th {\n",
       "        text-align: right;\n",
       "    }\n",
       "</style>\n",
       "<table border=\"1\" class=\"dataframe\">\n",
       "  <thead>\n",
       "    <tr style=\"text-align: right;\">\n",
       "      <th></th>\n",
       "      <th>alpha</th>\n",
       "      <th>a</th>\n",
       "      <th>theta</th>\n",
       "      <th>d</th>\n",
       "    </tr>\n",
       "  </thead>\n",
       "  <tbody>\n",
       "    <tr>\n",
       "      <th>0</th>\n",
       "      <td>0.000</td>\n",
       "      <td>0.0</td>\n",
       "      <td>0.002</td>\n",
       "      <td>118.0</td>\n",
       "    </tr>\n",
       "    <tr>\n",
       "      <th>1</th>\n",
       "      <td>1.571</td>\n",
       "      <td>0.0</td>\n",
       "      <td>3.143</td>\n",
       "      <td>0.0</td>\n",
       "    </tr>\n",
       "    <tr>\n",
       "      <th>2</th>\n",
       "      <td>0.000</td>\n",
       "      <td>612.7</td>\n",
       "      <td>0.002</td>\n",
       "      <td>0.0</td>\n",
       "    </tr>\n",
       "    <tr>\n",
       "      <th>3</th>\n",
       "      <td>0.000</td>\n",
       "      <td>571.6</td>\n",
       "      <td>0.002</td>\n",
       "      <td>163.9</td>\n",
       "    </tr>\n",
       "    <tr>\n",
       "      <th>4</th>\n",
       "      <td>-1.571</td>\n",
       "      <td>0.0</td>\n",
       "      <td>0.002</td>\n",
       "      <td>115.7</td>\n",
       "    </tr>\n",
       "    <tr>\n",
       "      <th>5</th>\n",
       "      <td>1.571</td>\n",
       "      <td>0.0</td>\n",
       "      <td>3.143</td>\n",
       "      <td>93.2</td>\n",
       "    </tr>\n",
       "  </tbody>\n",
       "</table>\n",
       "</div>"
      ],
      "text/plain": [
       "   alpha      a  theta      d\n",
       "0  0.000    0.0  0.002  118.0\n",
       "1  1.571    0.0  3.143    0.0\n",
       "2  0.000  612.7  0.002    0.0\n",
       "3  0.000  571.6  0.002  163.9\n",
       "4 -1.571    0.0  0.002  115.7\n",
       "5  1.571    0.0  3.143   93.2"
      ]
     },
     "metadata": {},
     "output_type": "display_data"
    }
   ],
   "source": [
    "real_robot = deepcopy(nominal_robot)\n",
    "\n",
    "# let's pretend our real robot has small joint offsets\n",
    "joint_offset = np.deg2rad(0.1)\n",
    "\n",
    "for link in real_robot.kinematic_chain.links:\n",
    "    link.theta += joint_offset\n",
    "\n",
    "# let's also pretend our robot has a small offset error that we will not account for\n",
    "real_robot.kinematic_chain.links[-1].d += 1 # mm\n",
    "\n",
    "display(\n",
    "    pd.DataFrame(\n",
    "        real_robot.kinematic_chain.vector.reshape(real_robot.num_dof,-1),\n",
    "        columns=('alpha', 'a', 'theta', 'd'))\n",
    ")"
   ]
  },
  {
   "cell_type": "markdown",
   "metadata": {},
   "source": [
    "# Get Data"
   ]
  },
  {
   "cell_type": "markdown",
   "metadata": {},
   "source": [
    "## Random Joint Configurations"
   ]
  },
  {
   "cell_type": "code",
   "execution_count": 5,
   "metadata": {},
   "outputs": [
    {
     "data": {
      "text/html": [
       "<div>\n",
       "<style scoped>\n",
       "    .dataframe tbody tr th:only-of-type {\n",
       "        vertical-align: middle;\n",
       "    }\n",
       "\n",
       "    .dataframe tbody tr th {\n",
       "        vertical-align: top;\n",
       "    }\n",
       "\n",
       "    .dataframe thead th {\n",
       "        text-align: right;\n",
       "    }\n",
       "</style>\n",
       "<table border=\"1\" class=\"dataframe\">\n",
       "  <thead>\n",
       "    <tr style=\"text-align: right;\">\n",
       "      <th></th>\n",
       "      <th>j_0</th>\n",
       "      <th>j_1</th>\n",
       "      <th>j_2</th>\n",
       "      <th>j_3</th>\n",
       "      <th>j_4</th>\n",
       "      <th>j_5</th>\n",
       "    </tr>\n",
       "  </thead>\n",
       "  <tbody>\n",
       "    <tr>\n",
       "      <th>0</th>\n",
       "      <td>-0.214</td>\n",
       "      <td>-0.800</td>\n",
       "      <td>0.735</td>\n",
       "      <td>-0.088</td>\n",
       "      <td>-0.878</td>\n",
       "      <td>-0.590</td>\n",
       "    </tr>\n",
       "    <tr>\n",
       "      <th>1</th>\n",
       "      <td>1.045</td>\n",
       "      <td>-0.164</td>\n",
       "      <td>-0.935</td>\n",
       "      <td>0.363</td>\n",
       "      <td>0.075</td>\n",
       "      <td>0.715</td>\n",
       "    </tr>\n",
       "    <tr>\n",
       "      <th>2</th>\n",
       "      <td>-1.014</td>\n",
       "      <td>-0.599</td>\n",
       "      <td>0.471</td>\n",
       "      <td>0.465</td>\n",
       "      <td>0.385</td>\n",
       "      <td>-1.022</td>\n",
       "    </tr>\n",
       "    <tr>\n",
       "      <th>3</th>\n",
       "      <td>-0.929</td>\n",
       "      <td>0.913</td>\n",
       "      <td>-1.014</td>\n",
       "      <td>-0.530</td>\n",
       "      <td>-0.415</td>\n",
       "      <td>-0.999</td>\n",
       "    </tr>\n",
       "    <tr>\n",
       "      <th>4</th>\n",
       "      <td>0.894</td>\n",
       "      <td>0.103</td>\n",
       "      <td>0.260</td>\n",
       "      <td>0.281</td>\n",
       "      <td>0.854</td>\n",
       "      <td>0.642</td>\n",
       "    </tr>\n",
       "  </tbody>\n",
       "</table>\n",
       "</div>"
      ],
      "text/plain": [
       "     j_0    j_1    j_2    j_3    j_4    j_5\n",
       "0 -0.214 -0.800  0.735 -0.088 -0.878 -0.590\n",
       "1  1.045 -0.164 -0.935  0.363  0.075  0.715\n",
       "2 -1.014 -0.599  0.471  0.465  0.385 -1.022\n",
       "3 -0.929  0.913 -1.014 -0.530 -0.415 -0.999\n",
       "4  0.894  0.103  0.260  0.281  0.854  0.642"
      ]
     },
     "metadata": {},
     "output_type": "display_data"
    }
   ],
   "source": [
    "num_measures = 1000\n",
    "joint_configurations = np.random.uniform(low=np.deg2rad(-60),\n",
    "                                         high=np.deg2rad(60),\n",
    "                                         size=(num_measures, nominal_robot.num_dof))\n",
    "\n",
    "display(\n",
    "    pd.DataFrame(\n",
    "        joint_configurations,\n",
    "        columns=['j_{}'.format(i) for i in range(nominal_robot.num_dof)]\n",
    "    ).head()\n",
    ")"
   ]
  },
  {
   "cell_type": "markdown",
   "metadata": {},
   "source": [
    "## Get *Real* (aka Measured) Poses\n",
    "- In real life, these poses would be measured using metrology equipment (e.g., laser tracker, CMM)"
   ]
  },
  {
   "cell_type": "code",
   "execution_count": 6,
   "metadata": {},
   "outputs": [
    {
     "data": {
      "text/html": [
       "<div>\n",
       "<style scoped>\n",
       "    .dataframe tbody tr th:only-of-type {\n",
       "        vertical-align: middle;\n",
       "    }\n",
       "\n",
       "    .dataframe tbody tr th {\n",
       "        vertical-align: top;\n",
       "    }\n",
       "\n",
       "    .dataframe thead th {\n",
       "        text-align: right;\n",
       "    }\n",
       "</style>\n",
       "<table border=\"1\" class=\"dataframe\">\n",
       "  <thead>\n",
       "    <tr style=\"text-align: right;\">\n",
       "      <th></th>\n",
       "      <th>x</th>\n",
       "      <th>y</th>\n",
       "      <th>z</th>\n",
       "    </tr>\n",
       "  </thead>\n",
       "  <tbody>\n",
       "    <tr>\n",
       "      <th>0</th>\n",
       "      <td>-970.299</td>\n",
       "      <td>-20.036</td>\n",
       "      <td>466.736</td>\n",
       "    </tr>\n",
       "    <tr>\n",
       "      <th>1</th>\n",
       "      <td>-252.163</td>\n",
       "      <td>-949.647</td>\n",
       "      <td>644.233</td>\n",
       "    </tr>\n",
       "    <tr>\n",
       "      <th>2</th>\n",
       "      <td>-777.959</td>\n",
       "      <td>773.601</td>\n",
       "      <td>412.209</td>\n",
       "    </tr>\n",
       "    <tr>\n",
       "      <th>3</th>\n",
       "      <td>-787.340</td>\n",
       "      <td>634.713</td>\n",
       "      <td>-427.453</td>\n",
       "    </tr>\n",
       "    <tr>\n",
       "      <th>4</th>\n",
       "      <td>-529.752</td>\n",
       "      <td>-1022.065</td>\n",
       "      <td>-285.529</td>\n",
       "    </tr>\n",
       "  </tbody>\n",
       "</table>\n",
       "</div>"
      ],
      "text/plain": [
       "         x         y        z\n",
       "0 -970.299   -20.036  466.736\n",
       "1 -252.163  -949.647  644.233\n",
       "2 -777.959   773.601  412.209\n",
       "3 -787.340   634.713 -427.453\n",
       "4 -529.752 -1022.065 -285.529"
      ]
     },
     "metadata": {},
     "output_type": "display_data"
    }
   ],
   "source": [
    "measured_poses = np.array(list(map(real_robot.fk, joint_configurations)))\n",
    "measured_positions = measured_poses[:, :-1, -1]\n",
    "\n",
    "display(\n",
    "    pd.DataFrame(\n",
    "        measured_positions,\n",
    "        columns=['{}'.format(e) for e in 'xyz']\n",
    "    ).head()\n",
    ")"
   ]
  },
  {
   "cell_type": "markdown",
   "metadata": {},
   "source": [
    "## Split Calibration and Validation Measures"
   ]
  },
  {
   "cell_type": "code",
   "execution_count": 7,
   "metadata": {},
   "outputs": [],
   "source": [
    "train_joints, test_joints, train_position, test_positions = train_test_split(joint_configurations,\n",
    "                                                                             measured_positions,\n",
    "                                                                             test_size=0.3)"
   ]
  },
  {
   "cell_type": "markdown",
   "metadata": {},
   "source": [
    "# Get Nominal Position Errors\n",
    "- These nominal model is our starting point for calibration"
   ]
  },
  {
   "cell_type": "code",
   "execution_count": 8,
   "metadata": {},
   "outputs": [
    {
     "data": {
      "text/plain": [
       "count    300.000\n",
       "mean       3.884\n",
       "std        0.485\n",
       "min        2.301\n",
       "25%        3.594\n",
       "50%        3.945\n",
       "75%        4.213\n",
       "max        4.958\n",
       "dtype: float64"
      ]
     },
     "metadata": {},
     "output_type": "display_data"
    }
   ],
   "source": [
    "nominal_errors = compute_absolute_errors(nominal_robot, test_joints, test_positions)\n",
    "\n",
    "display(pd.Series(nominal_errors).describe())"
   ]
  },
  {
   "cell_type": "markdown",
   "metadata": {},
   "source": [
    "# Calibration"
   ]
  },
  {
   "cell_type": "markdown",
   "metadata": {},
   "source": [
    "## Initialize a Calibration Robot"
   ]
  },
  {
   "cell_type": "code",
   "execution_count": 9,
   "metadata": {},
   "outputs": [],
   "source": [
    "calibration_robot = deepcopy(nominal_robot)"
   ]
  },
  {
   "cell_type": "markdown",
   "metadata": {},
   "source": [
    "## Define Optimization Mask\n",
    "- Not all the robot parameters need to be part of the optimization process\n",
    "    - The calibration will be more efficient and effective with masked parameters\n",
    "    - Parameter selection is outside the scope of this example"
   ]
  },
  {
   "cell_type": "code",
   "execution_count": 10,
   "metadata": {},
   "outputs": [
    {
     "data": {
      "text/plain": [
       "array([[False, False,  True, False],\n",
       "       [False, False,  True, False],\n",
       "       [False, False,  True, False],\n",
       "       [False, False,  True, False],\n",
       "       [False, False,  True, False],\n",
       "       [False, False,  True, False]])"
      ]
     },
     "metadata": {},
     "output_type": "display_data"
    }
   ],
   "source": [
    "kinematic_chain_mask = np.zeros(shape=(calibration_robot.num_dof, LinkConvention.MDH.value), dtype=bool)\n",
    "kinematic_chain_mask[:, 2] = True\n",
    "\n",
    "display(kinematic_chain_mask)\n",
    "\n",
    "calibration_robot.optimization_mask = RobotOptimizationMask(world_frame=False,\n",
    "                                                            kinematic_chain=kinematic_chain_mask.ravel(),\n",
    "                                                            tool=False)"
   ]
  },
  {
   "cell_type": "markdown",
   "metadata": {},
   "source": [
    "## Define a Fitness Function"
   ]
  },
  {
   "cell_type": "code",
   "execution_count": 11,
   "metadata": {},
   "outputs": [],
   "source": [
    "def fitness_function(optimization_vector, robot, joints, positions):\n",
    "    robot.apply_optimization_vector(optimization_vector)\n",
    "    errors = compute_absolute_errors(robot, joints, positions)\n",
    "    return errors"
   ]
  },
  {
   "cell_type": "markdown",
   "metadata": {},
   "source": [
    "## Optimize"
   ]
  },
  {
   "cell_type": "code",
   "execution_count": 12,
   "metadata": {},
   "outputs": [],
   "source": [
    "result = scipy.optimize.leastsq(func=fitness_function,\n",
    "                                x0=calibration_robot.optimization_vector,\n",
    "                                args=(calibration_robot,\n",
    "                                      train_joints,\n",
    "                                      train_position)\n",
    "                               )\n",
    "\n",
    "calibration_robot.apply_optimization_vector(result[0])"
   ]
  },
  {
   "cell_type": "code",
   "execution_count": 13,
   "metadata": {},
   "outputs": [
    {
     "data": {
      "text/html": [
       "<div>\n",
       "<style scoped>\n",
       "    .dataframe tbody tr th:only-of-type {\n",
       "        vertical-align: middle;\n",
       "    }\n",
       "\n",
       "    .dataframe tbody tr th {\n",
       "        vertical-align: top;\n",
       "    }\n",
       "\n",
       "    .dataframe thead th {\n",
       "        text-align: right;\n",
       "    }\n",
       "</style>\n",
       "<table border=\"1\" class=\"dataframe\">\n",
       "  <thead>\n",
       "    <tr style=\"text-align: right;\">\n",
       "      <th></th>\n",
       "      <th>alpha</th>\n",
       "      <th>a</th>\n",
       "      <th>theta</th>\n",
       "      <th>d</th>\n",
       "    </tr>\n",
       "  </thead>\n",
       "  <tbody>\n",
       "    <tr>\n",
       "      <th>0</th>\n",
       "      <td>0.000</td>\n",
       "      <td>0.0</td>\n",
       "      <td>0.003</td>\n",
       "      <td>118.0</td>\n",
       "    </tr>\n",
       "    <tr>\n",
       "      <th>1</th>\n",
       "      <td>1.571</td>\n",
       "      <td>0.0</td>\n",
       "      <td>3.143</td>\n",
       "      <td>0.0</td>\n",
       "    </tr>\n",
       "    <tr>\n",
       "      <th>2</th>\n",
       "      <td>0.000</td>\n",
       "      <td>612.7</td>\n",
       "      <td>0.002</td>\n",
       "      <td>0.0</td>\n",
       "    </tr>\n",
       "    <tr>\n",
       "      <th>3</th>\n",
       "      <td>0.000</td>\n",
       "      <td>571.6</td>\n",
       "      <td>0.001</td>\n",
       "      <td>163.9</td>\n",
       "    </tr>\n",
       "    <tr>\n",
       "      <th>4</th>\n",
       "      <td>-1.571</td>\n",
       "      <td>0.0</td>\n",
       "      <td>0.002</td>\n",
       "      <td>115.7</td>\n",
       "    </tr>\n",
       "    <tr>\n",
       "      <th>5</th>\n",
       "      <td>1.571</td>\n",
       "      <td>0.0</td>\n",
       "      <td>3.142</td>\n",
       "      <td>92.2</td>\n",
       "    </tr>\n",
       "  </tbody>\n",
       "</table>\n",
       "</div>"
      ],
      "text/plain": [
       "   alpha      a  theta      d\n",
       "0  0.000    0.0  0.003  118.0\n",
       "1  1.571    0.0  3.143    0.0\n",
       "2  0.000  612.7  0.002    0.0\n",
       "3  0.000  571.6  0.001  163.9\n",
       "4 -1.571    0.0  0.002  115.7\n",
       "5  1.571    0.0  3.142   92.2"
      ]
     },
     "metadata": {},
     "output_type": "display_data"
    }
   ],
   "source": [
    "display(\n",
    "    pd.DataFrame(\n",
    "        calibration_robot.kinematic_chain.vector.reshape(calibration_robot.num_dof, -1),\n",
    "        columns=('alpha', 'a', 'theta', 'd'))\n",
    ")"
   ]
  },
  {
   "cell_type": "markdown",
   "metadata": {},
   "source": [
    "# Results"
   ]
  },
  {
   "cell_type": "code",
   "execution_count": 14,
   "metadata": {},
   "outputs": [
    {
     "data": {
      "text/plain": [
       "count    300.000\n",
       "mean       0.596\n",
       "std        0.232\n",
       "min        0.083\n",
       "25%        0.404\n",
       "50%        0.596\n",
       "75%        0.779\n",
       "max        1.122\n",
       "dtype: float64"
      ]
     },
     "metadata": {},
     "output_type": "display_data"
    }
   ],
   "source": [
    "calibrated_errors = compute_absolute_errors(calibration_robot, test_joints, test_positions)\n",
    "\n",
    "display(pd.Series(calibrated_errors).describe())"
   ]
  },
  {
   "cell_type": "code",
   "execution_count": 15,
   "metadata": {},
   "outputs": [
    {
     "data": {
      "image/png": "[encoded data removed]",
      "text/plain": [
       "<matplotlib.figure.Figure at 0x111ab3dd8>"
      ]
     },
     "metadata": {},
     "output_type": "display_data"
    }
   ],
   "source": [
    "plt.hist(\n",
    "    x=[nominal_errors,\n",
    "       calibrated_errors],\n",
    "    label=['Nominal', 'Calibrated'],\n",
    "    bins=60,\n",
    ");\n",
    "plt.xlabel('Absolute Error [mm]');\n",
    "plt.ylabel('Frequency');\n",
    "plt.legend();"
   ]
  },
  {
   "cell_type": "markdown",
   "metadata": {},
   "source": [
    "# Discussion\n",
    "- A portion of the measured configurations and positions should be set aside for validation after calibration (i.e., optimization)\n",
    "    - This is to check the optimized model for overfitting\n",
    "- A calibrated robot model is never perfect in real life\n",
    "    - The goal is often to reduce the max error under a desired threshold\n",
    "- Small errors in the robot model can generate large errors in Cartesian position"
   ]
  }
 ],
 "metadata": {
  "kernelspec": {
   "display_name": "Python 3",
   "language": "python",
   "name": "python3"
  },
  "language_info": {
   "codemirror_mode": {
    "name": "ipython",
    "version": 3
   },
   "file_extension": ".py",
   "mimetype": "text/x-python",
   "name": "python",
   "nbconvert_exporter": "python",
   "pygments_lexer": "ipython3",
   "version": "3.6.4"
  }
 },
 "nbformat": 4,
 "nbformat_minor": 1
}
