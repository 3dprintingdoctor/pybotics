{
 "cells": [
  {
   "cell_type": "code",
   "execution_count": 5,
   "metadata": {
    "collapsed": true
   },
   "outputs": [
    {
     "ename": "ImportError",
     "evalue": "cannot import name 'NUMPY_MKL'",
     "traceback": [
      "\u001b[1;31m---------------------------------------------------------------------------\u001b[0m",
      "\u001b[1;31mImportError\u001b[0m                               Traceback (most recent call last)",
      "\u001b[1;32m<ipython-input-5-b14e294cf50e>\u001b[0m in \u001b[0;36m<module>\u001b[1;34m()\u001b[0m\n\u001b[0;32m      1\u001b[0m \u001b[1;32mimport\u001b[0m \u001b[0mnumpy\u001b[0m \u001b[1;32mas\u001b[0m \u001b[0mnp\u001b[0m\u001b[1;33m\u001b[0m\u001b[0m\n\u001b[1;32m----> 2\u001b[1;33m \u001b[1;32mimport\u001b[0m \u001b[0mscipy\u001b[0m\u001b[1;33m.\u001b[0m\u001b[0moptimize\u001b[0m\u001b[1;33m\u001b[0m\u001b[0m\n\u001b[0m\u001b[0;32m      3\u001b[0m \u001b[1;32mimport\u001b[0m \u001b[0mscipy\u001b[0m\u001b[1;33m.\u001b[0m\u001b[0mstats\u001b[0m\u001b[1;33m\u001b[0m\u001b[0m\n\u001b[0;32m      4\u001b[0m \u001b[1;32mfrom\u001b[0m \u001b[0mIPython\u001b[0m\u001b[1;33m.\u001b[0m\u001b[0mdisplay\u001b[0m \u001b[1;32mimport\u001b[0m \u001b[0mdisplay\u001b[0m\u001b[1;33m\u001b[0m\u001b[0m\n\u001b[0;32m      5\u001b[0m \u001b[1;32mimport\u001b[0m \u001b[0mpandas\u001b[0m \u001b[1;32mas\u001b[0m \u001b[0mpd\u001b[0m\u001b[1;33m\u001b[0m\u001b[0m\n",
      "\u001b[1;32m~\\AppData\\Local\\Programs\\Python\\Python36\\lib\\site-packages\\scipy\\__init__.py\u001b[0m in \u001b[0;36m<module>\u001b[1;34m()\u001b[0m\n\u001b[0;32m     59\u001b[0m \u001b[0m__all__\u001b[0m \u001b[1;33m=\u001b[0m \u001b[1;33m[\u001b[0m\u001b[1;34m'test'\u001b[0m\u001b[1;33m]\u001b[0m\u001b[1;33m\u001b[0m\u001b[0m\n\u001b[0;32m     60\u001b[0m \u001b[1;33m\u001b[0m\u001b[0m\n\u001b[1;32m---> 61\u001b[1;33m \u001b[1;32mfrom\u001b[0m \u001b[0mnumpy\u001b[0m\u001b[1;33m.\u001b[0m\u001b[0m_distributor_init\u001b[0m \u001b[1;32mimport\u001b[0m \u001b[0mNUMPY_MKL\u001b[0m  \u001b[1;31m# requires numpy+mkl\u001b[0m\u001b[1;33m\u001b[0m\u001b[0m\n\u001b[0m\u001b[0;32m     62\u001b[0m \u001b[1;33m\u001b[0m\u001b[0m\n\u001b[0;32m     63\u001b[0m \u001b[1;32mfrom\u001b[0m \u001b[0mnumpy\u001b[0m \u001b[1;32mimport\u001b[0m \u001b[0mshow_config\u001b[0m \u001b[1;32mas\u001b[0m \u001b[0mshow_numpy_config\u001b[0m\u001b[1;33m\u001b[0m\u001b[0m\n",
      "\u001b[1;31mImportError\u001b[0m: cannot import name 'NUMPY_MKL'"
     ],
     "output_type": "error"
    }
   ],
   "source": [
    "import numpy as np\n",
    "import scipy.optimize\n",
    "import scipy.stats\n",
    "from IPython.display import display\n",
    "import pandas as pd\n",
    "\n",
    "np.set_printoptions(precision=3, suppress=True)\n",
    "pd.set_option('precision', 3)"
   ]
  },
  {
   "cell_type": "markdown",
   "metadata": {},
   "source": [
    "# Init Robot"
   ]
  },
  {
   "cell_type": "code",
   "execution_count": 20,
   "metadata": {},
   "outputs": [
    {
     "data": {
      "text/html": [
       "<div>\n",
       "<table border=\"1\" class=\"dataframe\">\n",
       "  <thead>\n",
       "    <tr style=\"text-align: right;\">\n",
       "      <th></th>\n",
       "      <th>alpha</th>\n",
       "      <th>a</th>\n",
       "      <th>theta</th>\n",
       "      <th>d</th>\n",
       "    </tr>\n",
       "  </thead>\n",
       "  <tbody>\n",
       "    <tr>\n",
       "      <th>0</th>\n",
       "      <td>0.000</td>\n",
       "      <td>0.0</td>\n",
       "      <td>0.000</td>\n",
       "      <td>118.0</td>\n",
       "    </tr>\n",
       "    <tr>\n",
       "      <th>1</th>\n",
       "      <td>1.571</td>\n",
       "      <td>0.0</td>\n",
       "      <td>3.142</td>\n",
       "      <td>0.0</td>\n",
       "    </tr>\n",
       "    <tr>\n",
       "      <th>2</th>\n",
       "      <td>0.000</td>\n",
       "      <td>612.7</td>\n",
       "      <td>0.000</td>\n",
       "      <td>0.0</td>\n",
       "    </tr>\n",
       "    <tr>\n",
       "      <th>3</th>\n",
       "      <td>0.000</td>\n",
       "      <td>571.6</td>\n",
       "      <td>0.000</td>\n",
       "      <td>163.9</td>\n",
       "    </tr>\n",
       "    <tr>\n",
       "      <th>4</th>\n",
       "      <td>-1.571</td>\n",
       "      <td>0.0</td>\n",
       "      <td>0.000</td>\n",
       "      <td>115.7</td>\n",
       "    </tr>\n",
       "    <tr>\n",
       "      <th>5</th>\n",
       "      <td>1.571</td>\n",
       "      <td>0.0</td>\n",
       "      <td>3.142</td>\n",
       "      <td>92.2</td>\n",
       "    </tr>\n",
       "  </tbody>\n",
       "</table>\n",
       "</div>"
      ],
      "text/plain": [
       "<div>\n",
       "<table border=\"1\" class=\"dataframe\">\n",
       "  <thead>\n",
       "    <tr style=\"text-align: right;\">\n",
       "      <th></th>\n",
       "      <th>alpha</th>\n",
       "      <th>a</th>\n",
       "      <th>theta</th>\n",
       "      <th>d</th>\n",
       "    </tr>\n",
       "  </thead>\n",
       "  <tbody>\n",
       "    <tr>\n",
       "      <th>0</th>\n",
       "      <td>0.000</td>\n",
       "      <td>0.0</td>\n",
       "      <td>0.000</td>\n",
       "      <td>118.0</td>\n",
       "    </tr>\n",
       "    <tr>\n",
       "      <th>1</th>\n",
       "      <td>1.571</td>\n",
       "      <td>0.0</td>\n",
       "      <td>3.142</td>\n",
       "      <td>0.0</td>\n",
       "    </tr>\n",
       "    <tr>\n",
       "      <th>2</th>\n",
       "      <td>0.000</td>\n",
       "      <td>612.7</td>\n",
       "      <td>0.000</td>\n",
       "      <td>0.0</td>\n",
       "    </tr>\n",
       "    <tr>\n",
       "      <th>3</th>\n",
       "      <td>0.000</td>\n",
       "      <td>571.6</td>\n",
       "      <td>0.000</td>\n",
       "      <td>163.9</td>\n",
       "    </tr>\n",
       "    <tr>\n",
       "      <th>4</th>\n",
       "      <td>-1.571</td>\n",
       "      <td>0.0</td>\n",
       "      <td>0.000</td>\n",
       "      <td>115.7</td>\n",
       "    </tr>\n",
       "    <tr>\n",
       "      <th>5</th>\n",
       "      <td>1.571</td>\n",
       "      <td>0.0</td>\n",
       "      <td>3.142</td>\n",
       "      <td>92.2</td>\n",
       "    </tr>\n",
       "  </tbody>\n",
       "</table>\n",
       "</div>"
      ]
     },
     "execution_count": 0,
     "metadata": {},
     "output_type": "execute_result"
    }
   ],
   "source": [
    "# load UR10 model for testing\n",
    "model = np.array([\n",
    "    0, 0, 0, 118,\n",
    "    1.5707963267949, 0, 3.14159265358979, 0,\n",
    "    0, 612.7, 0, 0,\n",
    "    0, 571.6, 0, 163.9,\n",
    "    - 1.5707963267949, 0, 0, 115.7,\n",
    "    1.5707963267949, 0, 3.14159265358979, 92.2\n",
    "]).reshape((-1, 4))\n",
    "robot = pybot.Robot(model)\n",
    "\n",
    "df = pd.DataFrame(robot.robot_model, columns=('alpha', 'a', 'theta', 'd'))\n",
    "display(df)"
   ]
  },
  {
   "cell_type": "markdown",
   "metadata": {},
   "source": [
    "# Init Tool"
   ]
  },
  {
   "cell_type": "code",
   "execution_count": 15,
   "metadata": {},
   "outputs": [],
   "source": [
    "nominal_tool_xyz = [100, 100, 50]\n",
    "real_tool_xyz = [99.123, 100.987, 51.192]"
   ]
  },
  {
   "cell_type": "markdown",
   "metadata": {},
   "source": [
    "# \"Real\" Measures"
   ]
  },
  {
   "cell_type": "code",
   "execution_count": 16,
   "metadata": {},
   "outputs": [],
   "source": [
    "# simulate real measures (this would actually be externally measured data)\n",
    "robot.tool.tcp_xyz(real_tool_xyz)\n",
    "\n",
    "joints = []\n",
    "torques = []\n",
    "positions = []\n",
    "for i in range(100):\n",
    "    robot.random_joints()\n",
    "    joints.append(robot.joint_angles)\n",
    "    torques.append([0] * robot.num_dof())\n",
    "    positions.append(robot.fk()[:-1, -1])"
   ]
  },
  {
   "cell_type": "markdown",
   "metadata": {},
   "source": [
    "# Calibrate Tool"
   ]
  },
  {
   "cell_type": "markdown",
   "metadata": {},
   "source": [
    "## Compute Initial Errors"
   ]
  },
  {
   "cell_type": "code",
   "execution_count": 22,
   "metadata": {},
   "outputs": [
    {
     "name": "stdout",
     "output_type": "stream",
     "text": [
      "Initial tool:\n[[   1.    0.    0.  100.]\n [   0.    1.    0.  100.]\n [   0.    0.    1.   50.]\n [   0.    0.    0.    1.]]\nInitial errors:\nDescribeResult(nobs=100, minmax=(1.7788091522137663, 1.7788091522140106), mean=1.778809152213918, variance=1.0768927472033373e-27, skewness=-0.7036938138240161, kurtosis=4.553317223827894)\n"
     ]
    }
   ],
   "source": [
    "# use nominal tool as seed for calibration\n",
    "robot.tool.tcp_xyz(nominal_tool_xyz)\n",
    "\n",
    "initial_errors = pybot.calibration.compute_absolute_errors(robot=robot,\n",
    "                                                           joints=joints,\n",
    "                                                           torques=torques,\n",
    "                                                           positions=positions)\n",
    "print('Initial tool:\\n{}'.format(robot.tool.tcp))\n",
    "print('Initial errors:\\n{}'.format(scipy.stats.describe(initial_errors)))"
   ]
  },
  {
   "cell_type": "markdown",
   "metadata": {},
   "source": [
    "## Calibrate Using Least Squares"
   ]
  },
  {
   "cell_type": "code",
   "execution_count": 23,
   "metadata": {},
   "outputs": [],
   "source": [
    "def calibration_fitness_func(optimization_vector,\n",
    "                             optimization_mask,\n",
    "                             robot,\n",
    "                             joints,\n",
    "                             torques,\n",
    "                             positions):\n",
    "    # validate input\n",
    "    assert len(joints) == len(torques)\n",
    "    assert len(joints) == len(positions)\n",
    "\n",
    "    # make sure optimization_vector is a list\n",
    "    if isinstance(optimization_vector, np.ndarray):\n",
    "        optimization_vector = optimization_vector.tolist()\n",
    "\n",
    "    robot.apply_optimization_vector(optimization_vector, optimization_mask)\n",
    "\n",
    "    errors = pybot.calibration.compute_absolute_errors(robot, joints, torques, positions)\n",
    "\n",
    "    return errors"
   ]
  },
  {
   "cell_type": "code",
   "execution_count": 26,
   "metadata": {},
   "outputs": [
    {
     "name": "stdout",
     "output_type": "stream",
     "text": [
      "Calibrated tool:\n[  99.123  100.987   51.192]\nCalibration error:\n[ 0. -0.  0.]\n"
     ]
    }
   ],
   "source": [
    "# set calibration mask\n",
    "tool_mask = [True] * 6\n",
    "tool_mask[3] = False\n",
    "tool_mask[4] = False\n",
    "tool_mask[5] = False\n",
    "\n",
    "optimization_mask = robot.generate_optimization_mask(tool_mask=tool_mask)\n",
    "optimization_vector = robot.generate_optimization_vector(optimization_mask)\n",
    "\n",
    "# calibrate\n",
    "optimize_result = scipy.optimize.leastsq(func=calibration_fitness_func,\n",
    "                                         x0=optimization_vector,\n",
    "                                         args=(\n",
    "                                             optimization_mask,\n",
    "                                             robot,\n",
    "                                             joints,\n",
    "                                             torques,\n",
    "                                             positions))\n",
    "\n",
    "# process results\n",
    "calibrated_tool = optimize_result[0]\n",
    "print('Calibrated tool:\\n{}'.format(calibrated_tool))\n",
    "print('Calibration error:\\n{}'.format(calibrated_tool-real_tool_xyz))"
   ]
  },
  {
   "cell_type": "code",
   "execution_count": null,
   "metadata": {},
   "outputs": [],
   "source": [
    ""
   ]
  }
 ],
 "metadata": {
  "kernelspec": {
   "display_name": "Python 2",
   "language": "python",
   "name": "python2"
  },
  "language_info": {
   "codemirror_mode": {
    "name": "ipython",
    "version": 2
   },
   "file_extension": ".py",
   "mimetype": "text/x-python",
   "name": "python",
   "nbconvert_exporter": "python",
   "pygments_lexer": "ipython2",
   "version": "2.7.6"
  }
 },
 "nbformat": 4,
 "nbformat_minor": 0
}
