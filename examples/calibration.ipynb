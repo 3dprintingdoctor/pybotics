{
 "cells": [
  {
   "cell_type": "markdown",
   "metadata": {},
   "source": [
    "# Imports & Setup"
   ]
  },
  {
   "cell_type": "code",
   "execution_count": 3,
   "metadata": {},
   "outputs": [],
   "source": [
    "# pybotics imports\n",
    "from pybotics import Robot, KinematicChain, LinkConvention, RobotOptimizationMask\n",
    "from pybotics.calibration import compute_absolute_errors\n",
    "from pybotics.robot_model import UR10\n",
    "\n",
    "# arrays, vectors, and matrices\n",
    "import numpy as np\n",
    "np.set_printoptions(suppress=True)\n",
    "\n",
    "# data display and visualization\n",
    "import pandas as pd\n",
    "pd.set_option('precision', 3)\n",
    "from matplotlib import pyplot as plt\n",
    "%matplotlib inline\n",
    "\n",
    "# robot model copying for different stages\n",
    "from copy import deepcopy\n",
    "\n",
    "# calibration and optimization\n",
    "import scipy.optimize\n",
    "from sklearn.model_selection import train_test_split"
   ]
  },
  {
   "cell_type": "markdown",
   "metadata": {},
   "source": [
    "# Initialize Robot Models"
   ]
  },
  {
   "cell_type": "markdown",
   "metadata": {},
   "source": [
    "## Nominal Robot\n",
    "- A nominal robot model represents what the robot manufacturer intended as a kinematic model\n",
    "    - It is mathematically ideal"
   ]
  },
  {
   "cell_type": "code",
   "execution_count": 4,
   "metadata": {},
   "outputs": [],
   "source": [
    "nominal_robot = UR10()"
   ]
  },
  {
   "cell_type": "code",
   "execution_count": 5,
   "metadata": {},
   "outputs": [
    {
     "data": {
      "text/html": [
       "<div>\n",
       "<style scoped>\n",
       "    .dataframe tbody tr th:only-of-type {\n",
       "        vertical-align: middle;\n",
       "    }\n",
       "\n",
       "    .dataframe tbody tr th {\n",
       "        vertical-align: top;\n",
       "    }\n",
       "\n",
       "    .dataframe thead th {\n",
       "        text-align: right;\n",
       "    }\n",
       "</style>\n",
       "<table border=\"1\" class=\"dataframe\">\n",
       "  <thead>\n",
       "    <tr style=\"text-align: right;\">\n",
       "      <th></th>\n",
       "      <th>alpha</th>\n",
       "      <th>a</th>\n",
       "      <th>theta</th>\n",
       "      <th>d</th>\n",
       "    </tr>\n",
       "  </thead>\n",
       "  <tbody>\n",
       "    <tr>\n",
       "      <th>0</th>\n",
       "      <td>0.000</td>\n",
       "      <td>0.0</td>\n",
       "      <td>0.000</td>\n",
       "      <td>118.0</td>\n",
       "    </tr>\n",
       "    <tr>\n",
       "      <th>1</th>\n",
       "      <td>1.571</td>\n",
       "      <td>0.0</td>\n",
       "      <td>3.142</td>\n",
       "      <td>0.0</td>\n",
       "    </tr>\n",
       "    <tr>\n",
       "      <th>2</th>\n",
       "      <td>0.000</td>\n",
       "      <td>612.7</td>\n",
       "      <td>0.000</td>\n",
       "      <td>0.0</td>\n",
       "    </tr>\n",
       "    <tr>\n",
       "      <th>3</th>\n",
       "      <td>0.000</td>\n",
       "      <td>571.6</td>\n",
       "      <td>0.000</td>\n",
       "      <td>163.9</td>\n",
       "    </tr>\n",
       "    <tr>\n",
       "      <th>4</th>\n",
       "      <td>-1.571</td>\n",
       "      <td>0.0</td>\n",
       "      <td>0.000</td>\n",
       "      <td>115.7</td>\n",
       "    </tr>\n",
       "    <tr>\n",
       "      <th>5</th>\n",
       "      <td>1.571</td>\n",
       "      <td>0.0</td>\n",
       "      <td>3.142</td>\n",
       "      <td>92.2</td>\n",
       "    </tr>\n",
       "  </tbody>\n",
       "</table>\n",
       "</div>"
      ],
      "text/plain": [
       "   alpha      a  theta      d\n",
       "0  0.000    0.0  0.000  118.0\n",
       "1  1.571    0.0  3.142    0.0\n",
       "2  0.000  612.7  0.000    0.0\n",
       "3  0.000  571.6  0.000  163.9\n",
       "4 -1.571    0.0  0.000  115.7\n",
       "5  1.571    0.0  3.142   92.2"
      ]
     },
     "metadata": {},
     "output_type": "display_data"
    }
   ],
   "source": [
    "display(\n",
    "    pd.DataFrame(\n",
    "        nominal_robot.kinematic_chain.vector.reshape(nominal_robot.num_dof,-1),\n",
    "        columns=('alpha', 'a', 'theta', 'd'))\n",
    ")"
   ]
  },
  {
   "cell_type": "markdown",
   "metadata": {},
   "source": [
    "## *Real* Robot\n",
    "- *Real* robots do not conform perfectly to the nominal parameters\n",
    "- Sources of errors include, but are not limited to:\n",
    "    - Kinematic errors\n",
    "        - Mechanical tolerances\n",
    "        - Angle offsets\n",
    "    - Non-kinematic errors\n",
    "        - Joint stiffness\n",
    "        - Gravity\n",
    "        - Temperature\n",
    "        - Friction"
   ]
  },
  {
   "cell_type": "code",
   "execution_count": 6,
   "metadata": {},
   "outputs": [
    {
     "data": {
      "text/html": [
       "<div>\n",
       "<style scoped>\n",
       "    .dataframe tbody tr th:only-of-type {\n",
       "        vertical-align: middle;\n",
       "    }\n",
       "\n",
       "    .dataframe tbody tr th {\n",
       "        vertical-align: top;\n",
       "    }\n",
       "\n",
       "    .dataframe thead th {\n",
       "        text-align: right;\n",
       "    }\n",
       "</style>\n",
       "<table border=\"1\" class=\"dataframe\">\n",
       "  <thead>\n",
       "    <tr style=\"text-align: right;\">\n",
       "      <th></th>\n",
       "      <th>alpha</th>\n",
       "      <th>a</th>\n",
       "      <th>theta</th>\n",
       "      <th>d</th>\n",
       "    </tr>\n",
       "  </thead>\n",
       "  <tbody>\n",
       "    <tr>\n",
       "      <th>0</th>\n",
       "      <td>0.000</td>\n",
       "      <td>0.0</td>\n",
       "      <td>0.002</td>\n",
       "      <td>118.0</td>\n",
       "    </tr>\n",
       "    <tr>\n",
       "      <th>1</th>\n",
       "      <td>1.571</td>\n",
       "      <td>0.0</td>\n",
       "      <td>3.143</td>\n",
       "      <td>0.0</td>\n",
       "    </tr>\n",
       "    <tr>\n",
       "      <th>2</th>\n",
       "      <td>0.000</td>\n",
       "      <td>612.7</td>\n",
       "      <td>0.002</td>\n",
       "      <td>0.0</td>\n",
       "    </tr>\n",
       "    <tr>\n",
       "      <th>3</th>\n",
       "      <td>0.000</td>\n",
       "      <td>571.6</td>\n",
       "      <td>0.002</td>\n",
       "      <td>163.9</td>\n",
       "    </tr>\n",
       "    <tr>\n",
       "      <th>4</th>\n",
       "      <td>-1.571</td>\n",
       "      <td>0.0</td>\n",
       "      <td>0.002</td>\n",
       "      <td>115.7</td>\n",
       "    </tr>\n",
       "    <tr>\n",
       "      <th>5</th>\n",
       "      <td>1.571</td>\n",
       "      <td>0.0</td>\n",
       "      <td>3.143</td>\n",
       "      <td>93.2</td>\n",
       "    </tr>\n",
       "  </tbody>\n",
       "</table>\n",
       "</div>"
      ],
      "text/plain": [
       "   alpha      a  theta      d\n",
       "0  0.000    0.0  0.002  118.0\n",
       "1  1.571    0.0  3.143    0.0\n",
       "2  0.000  612.7  0.002    0.0\n",
       "3  0.000  571.6  0.002  163.9\n",
       "4 -1.571    0.0  0.002  115.7\n",
       "5  1.571    0.0  3.143   93.2"
      ]
     },
     "metadata": {},
     "output_type": "display_data"
    }
   ],
   "source": [
    "real_robot = deepcopy(nominal_robot)\n",
    "\n",
    "# let's pretend our real robot has small joint offsets\n",
    "joint_offset = np.deg2rad(0.1)\n",
    "\n",
    "for link in real_robot.kinematic_chain.links:\n",
    "    link.theta += joint_offset\n",
    "\n",
    "# let's also pretend our robot has a small offset error that we will not account for\n",
    "real_robot.kinematic_chain.links[-1].d += 1 # mm\n",
    "\n",
    "display(\n",
    "    pd.DataFrame(\n",
    "        real_robot.kinematic_chain.vector.reshape(real_robot.num_dof,-1),\n",
    "        columns=('alpha', 'a', 'theta', 'd'))\n",
    ")"
   ]
  },
  {
   "cell_type": "markdown",
   "metadata": {},
   "source": [
    "# Get Data"
   ]
  },
  {
   "cell_type": "markdown",
   "metadata": {},
   "source": [
    "## Random Joint Configurations"
   ]
  },
  {
   "cell_type": "code",
   "execution_count": 7,
   "metadata": {},
   "outputs": [
    {
     "data": {
      "text/html": [
       "<div>\n",
       "<style scoped>\n",
       "    .dataframe tbody tr th:only-of-type {\n",
       "        vertical-align: middle;\n",
       "    }\n",
       "\n",
       "    .dataframe tbody tr th {\n",
       "        vertical-align: top;\n",
       "    }\n",
       "\n",
       "    .dataframe thead th {\n",
       "        text-align: right;\n",
       "    }\n",
       "</style>\n",
       "<table border=\"1\" class=\"dataframe\">\n",
       "  <thead>\n",
       "    <tr style=\"text-align: right;\">\n",
       "      <th></th>\n",
       "      <th>j_0</th>\n",
       "      <th>j_1</th>\n",
       "      <th>j_2</th>\n",
       "      <th>j_3</th>\n",
       "      <th>j_4</th>\n",
       "      <th>j_5</th>\n",
       "    </tr>\n",
       "  </thead>\n",
       "  <tbody>\n",
       "    <tr>\n",
       "      <th>0</th>\n",
       "      <td>0.869</td>\n",
       "      <td>-0.058</td>\n",
       "      <td>-0.652</td>\n",
       "      <td>-1.006</td>\n",
       "      <td>0.078</td>\n",
       "      <td>-0.807</td>\n",
       "    </tr>\n",
       "    <tr>\n",
       "      <th>1</th>\n",
       "      <td>-0.237</td>\n",
       "      <td>0.639</td>\n",
       "      <td>0.437</td>\n",
       "      <td>0.539</td>\n",
       "      <td>0.265</td>\n",
       "      <td>-0.167</td>\n",
       "    </tr>\n",
       "    <tr>\n",
       "      <th>2</th>\n",
       "      <td>0.361</td>\n",
       "      <td>-0.306</td>\n",
       "      <td>-0.169</td>\n",
       "      <td>0.952</td>\n",
       "      <td>0.570</td>\n",
       "      <td>-0.174</td>\n",
       "    </tr>\n",
       "    <tr>\n",
       "      <th>3</th>\n",
       "      <td>0.101</td>\n",
       "      <td>0.183</td>\n",
       "      <td>-0.682</td>\n",
       "      <td>-0.957</td>\n",
       "      <td>-0.805</td>\n",
       "      <td>-0.655</td>\n",
       "    </tr>\n",
       "    <tr>\n",
       "      <th>4</th>\n",
       "      <td>0.848</td>\n",
       "      <td>-0.304</td>\n",
       "      <td>-0.447</td>\n",
       "      <td>0.590</td>\n",
       "      <td>-0.178</td>\n",
       "      <td>0.719</td>\n",
       "    </tr>\n",
       "  </tbody>\n",
       "</table>\n",
       "</div>"
      ],
      "text/plain": [
       "     j_0    j_1    j_2    j_3    j_4    j_5\n",
       "0  0.869 -0.058 -0.652 -1.006  0.078 -0.807\n",
       "1 -0.237  0.639  0.437  0.539  0.265 -0.167\n",
       "2  0.361 -0.306 -0.169  0.952  0.570 -0.174\n",
       "3  0.101  0.183 -0.682 -0.957 -0.805 -0.655\n",
       "4  0.848 -0.304 -0.447  0.590 -0.178  0.719"
      ]
     },
     "metadata": {},
     "output_type": "display_data"
    }
   ],
   "source": [
    "num_measures = 1000\n",
    "joint_configurations = np.random.uniform(low=np.deg2rad(-60),\n",
    "                                         high=np.deg2rad(60),\n",
    "                                         size=(num_measures, nominal_robot.num_dof))\n",
    "\n",
    "display(\n",
    "    pd.DataFrame(\n",
    "        joint_configurations,\n",
    "        columns=['j_{}'.format(i) for i in range(nominal_robot.num_dof)]\n",
    "    ).head()\n",
    ")"
   ]
  },
  {
   "cell_type": "markdown",
   "metadata": {},
   "source": [
    "## Get *Real* (aka Measured) Poses\n",
    "- In real life, these poses would be measured using metrology equipment (e.g., laser tracker, CMM)"
   ]
  },
  {
   "cell_type": "code",
   "execution_count": 8,
   "metadata": {},
   "outputs": [
    {
     "data": {
      "text/html": [
       "<div>\n",
       "<style scoped>\n",
       "    .dataframe tbody tr th:only-of-type {\n",
       "        vertical-align: middle;\n",
       "    }\n",
       "\n",
       "    .dataframe tbody tr th {\n",
       "        vertical-align: top;\n",
       "    }\n",
       "\n",
       "    .dataframe thead th {\n",
       "        text-align: right;\n",
       "    }\n",
       "</style>\n",
       "<table border=\"1\" class=\"dataframe\">\n",
       "  <thead>\n",
       "    <tr style=\"text-align: right;\">\n",
       "      <th></th>\n",
       "      <th>x</th>\n",
       "      <th>y</th>\n",
       "      <th>z</th>\n",
       "    </tr>\n",
       "  </thead>\n",
       "  <tbody>\n",
       "    <tr>\n",
       "      <th>0</th>\n",
       "      <td>-551.027</td>\n",
       "      <td>-1052.523</td>\n",
       "      <td>547.065</td>\n",
       "    </tr>\n",
       "    <tr>\n",
       "      <th>1</th>\n",
       "      <td>-685.885</td>\n",
       "      <td>-96.387</td>\n",
       "      <td>-770.888</td>\n",
       "    </tr>\n",
       "    <tr>\n",
       "      <th>2</th>\n",
       "      <td>-928.559</td>\n",
       "      <td>-611.309</td>\n",
       "      <td>434.760</td>\n",
       "    </tr>\n",
       "    <tr>\n",
       "      <th>3</th>\n",
       "      <td>-1181.954</td>\n",
       "      <td>-351.840</td>\n",
       "      <td>197.420</td>\n",
       "    </tr>\n",
       "    <tr>\n",
       "      <th>4</th>\n",
       "      <td>-472.174</td>\n",
       "      <td>-924.248</td>\n",
       "      <td>571.998</td>\n",
       "    </tr>\n",
       "  </tbody>\n",
       "</table>\n",
       "</div>"
      ],
      "text/plain": [
       "          x         y        z\n",
       "0  -551.027 -1052.523  547.065\n",
       "1  -685.885   -96.387 -770.888\n",
       "2  -928.559  -611.309  434.760\n",
       "3 -1181.954  -351.840  197.420\n",
       "4  -472.174  -924.248  571.998"
      ]
     },
     "metadata": {},
     "output_type": "display_data"
    }
   ],
   "source": [
    "measured_poses = np.array(list(map(real_robot.fk, joint_configurations)))\n",
    "measured_positions = measured_poses[:, :-1, -1]\n",
    "\n",
    "display(\n",
    "    pd.DataFrame(\n",
    "        measured_positions,\n",
    "        columns=['{}'.format(e) for e in 'xyz']\n",
    "    ).head()\n",
    ")"
   ]
  },
  {
   "cell_type": "markdown",
   "metadata": {},
   "source": [
    "## Split Calibration and Validation Measures"
   ]
  },
  {
   "cell_type": "code",
   "execution_count": 9,
   "metadata": {},
   "outputs": [],
   "source": [
    "train_joints, test_joints, train_position, test_positions = train_test_split(joint_configurations,\n",
    "                                                                             measured_positions,\n",
    "                                                                             test_size=0.3)"
   ]
  },
  {
   "cell_type": "markdown",
   "metadata": {},
   "source": [
    "# Get Nominal Position Errors\n",
    "- These nominal model is our starting point for calibration"
   ]
  },
  {
   "cell_type": "code",
   "execution_count": 10,
   "metadata": {},
   "outputs": [
    {
     "data": {
      "text/plain": [
       "count    300.000\n",
       "mean       3.967\n",
       "std        0.449\n",
       "min        2.303\n",
       "25%        3.706\n",
       "50%        4.017\n",
       "75%        4.257\n",
       "max        5.098\n",
       "dtype: float64"
      ]
     },
     "metadata": {},
     "output_type": "display_data"
    }
   ],
   "source": [
    "nominal_errors = compute_absolute_errors(nominal_robot, test_joints, test_positions)\n",
    "\n",
    "display(pd.Series(nominal_errors).describe())"
   ]
  },
  {
   "cell_type": "markdown",
   "metadata": {},
   "source": [
    "# Calibration"
   ]
  },
  {
   "cell_type": "markdown",
   "metadata": {},
   "source": [
    "## Initialize a Calibration Robot"
   ]
  },
  {
   "cell_type": "code",
   "execution_count": 11,
   "metadata": {},
   "outputs": [],
   "source": [
    "calibration_robot = deepcopy(nominal_robot)"
   ]
  },
  {
   "cell_type": "markdown",
   "metadata": {},
   "source": [
    "## Define Optimization Mask\n",
    "- Not all the robot parameters need to be part of the optimization process\n",
    "    - The calibration will be more efficient and effective with masked parameters\n",
    "    - Parameter selection is outside the scope of this example"
   ]
  },
  {
   "cell_type": "code",
   "execution_count": 12,
   "metadata": {},
   "outputs": [
    {
     "data": {
      "text/plain": [
       "array([[False, False,  True, False],\n",
       "       [False, False,  True, False],\n",
       "       [False, False,  True, False],\n",
       "       [False, False,  True, False],\n",
       "       [False, False,  True, False],\n",
       "       [False, False,  True, False]])"
      ]
     },
     "metadata": {},
     "output_type": "display_data"
    }
   ],
   "source": [
    "kinematic_chain_mask = np.zeros(shape=(calibration_robot.num_dof, LinkConvention.MDH.value), dtype=bool)\n",
    "kinematic_chain_mask[:, 2] = True\n",
    "\n",
    "display(kinematic_chain_mask)\n",
    "\n",
    "calibration_robot.optimization_mask = RobotOptimizationMask(world_frame=False,\n",
    "                                                            kinematic_chain=kinematic_chain_mask.ravel(),\n",
    "                                                            tool=False)"
   ]
  },
  {
   "cell_type": "markdown",
   "metadata": {},
   "source": [
    "## Define a Fitness Function"
   ]
  },
  {
   "cell_type": "code",
   "execution_count": 13,
   "metadata": {},
   "outputs": [],
   "source": [
    "def fitness_function(optimization_vector, robot, joints, positions):\n",
    "    robot.apply_optimization_vector(optimization_vector)\n",
    "    errors = compute_absolute_errors(robot, joints, positions)\n",
    "    return errors"
   ]
  },
  {
   "cell_type": "markdown",
   "metadata": {},
   "source": [
    "## Optimize"
   ]
  },
  {
   "cell_type": "code",
   "execution_count": 14,
   "metadata": {},
   "outputs": [
    {
     "name": "stderr",
     "output_type": "stream",
     "text": [
      "/Users/nicholas/Library/Python/3.6/lib/python/site-packages/scipy/optimize/minpack.py:427: RuntimeWarning: Number of calls to function has reached maxfev = 50.\n",
      "  warnings.warn(errors[info][0], RuntimeWarning)\n"
     ]
    }
   ],
   "source": [
    "result = scipy.optimize.leastsq(func=fitness_function,\n",
    "                                x0=calibration_robot.optimization_vector,\n",
    "                                args=(calibration_robot,\n",
    "                                      train_joints,\n",
    "                                      train_position),\n",
    "                                maxfev=50 # intentially limited for Travis CI\n",
    "                               )\n",
    "\n",
    "calibration_robot.apply_optimization_vector(result[0])"
   ]
  },
  {
   "cell_type": "code",
   "execution_count": 15,
   "metadata": {},
   "outputs": [
    {
     "data": {
      "text/html": [
       "<div>\n",
       "<style scoped>\n",
       "    .dataframe tbody tr th:only-of-type {\n",
       "        vertical-align: middle;\n",
       "    }\n",
       "\n",
       "    .dataframe tbody tr th {\n",
       "        vertical-align: top;\n",
       "    }\n",
       "\n",
       "    .dataframe thead th {\n",
       "        text-align: right;\n",
       "    }\n",
       "</style>\n",
       "<table border=\"1\" class=\"dataframe\">\n",
       "  <thead>\n",
       "    <tr style=\"text-align: right;\">\n",
       "      <th></th>\n",
       "      <th>alpha</th>\n",
       "      <th>a</th>\n",
       "      <th>theta</th>\n",
       "      <th>d</th>\n",
       "    </tr>\n",
       "  </thead>\n",
       "  <tbody>\n",
       "    <tr>\n",
       "      <th>0</th>\n",
       "      <td>0.000</td>\n",
       "      <td>0.0</td>\n",
       "      <td>2.542e-03</td>\n",
       "      <td>118.0</td>\n",
       "    </tr>\n",
       "    <tr>\n",
       "      <th>1</th>\n",
       "      <td>1.571</td>\n",
       "      <td>0.0</td>\n",
       "      <td>3.143e+00</td>\n",
       "      <td>0.0</td>\n",
       "    </tr>\n",
       "    <tr>\n",
       "      <th>2</th>\n",
       "      <td>0.000</td>\n",
       "      <td>612.7</td>\n",
       "      <td>2.405e-03</td>\n",
       "      <td>0.0</td>\n",
       "    </tr>\n",
       "    <tr>\n",
       "      <th>3</th>\n",
       "      <td>0.000</td>\n",
       "      <td>571.6</td>\n",
       "      <td>9.973e-04</td>\n",
       "      <td>163.9</td>\n",
       "    </tr>\n",
       "    <tr>\n",
       "      <th>4</th>\n",
       "      <td>-1.571</td>\n",
       "      <td>0.0</td>\n",
       "      <td>2.453e-03</td>\n",
       "      <td>115.7</td>\n",
       "    </tr>\n",
       "    <tr>\n",
       "      <th>5</th>\n",
       "      <td>1.571</td>\n",
       "      <td>0.0</td>\n",
       "      <td>3.142e+00</td>\n",
       "      <td>92.2</td>\n",
       "    </tr>\n",
       "  </tbody>\n",
       "</table>\n",
       "</div>"
      ],
      "text/plain": [
       "   alpha      a      theta      d\n",
       "0  0.000    0.0  2.542e-03  118.0\n",
       "1  1.571    0.0  3.143e+00    0.0\n",
       "2  0.000  612.7  2.405e-03    0.0\n",
       "3  0.000  571.6  9.973e-04  163.9\n",
       "4 -1.571    0.0  2.453e-03  115.7\n",
       "5  1.571    0.0  3.142e+00   92.2"
      ]
     },
     "metadata": {},
     "output_type": "display_data"
    }
   ],
   "source": [
    "display(\n",
    "    pd.DataFrame(\n",
    "        calibration_robot.kinematic_chain.vector.reshape(calibration_robot.num_dof, -1),\n",
    "        columns=('alpha', 'a', 'theta', 'd'))\n",
    ")"
   ]
  },
  {
   "cell_type": "markdown",
   "metadata": {},
   "source": [
    "# Results"
   ]
  },
  {
   "cell_type": "code",
   "execution_count": 16,
   "metadata": {},
   "outputs": [
    {
     "data": {
      "text/plain": [
       "count    300.000\n",
       "mean       0.582\n",
       "std        0.252\n",
       "min        0.045\n",
       "25%        0.369\n",
       "50%        0.597\n",
       "75%        0.785\n",
       "max        1.158\n",
       "dtype: float64"
      ]
     },
     "metadata": {},
     "output_type": "display_data"
    }
   ],
   "source": [
    "calibrated_errors = compute_absolute_errors(calibration_robot, test_joints, test_positions)\n",
    "\n",
    "display(pd.Series(calibrated_errors).describe())"
   ]
  },
  {
   "cell_type": "code",
   "execution_count": 17,
   "metadata": {},
   "outputs": [
    {
     "data": {
      "image/png": "[encoded data removed]",
      "text/plain": [
       "<matplotlib.figure.Figure at 0x116d7a550>"
      ]
     },
     "metadata": {},
     "output_type": "display_data"
    }
   ],
   "source": [
    "plt.hist(\n",
    "    x=[nominal_errors,\n",
    "       calibrated_errors],\n",
    "    label=['Nominal', 'Calibrated'],\n",
    "    bins=60,\n",
    ");\n",
    "plt.xlabel('Absolute Error [mm]');\n",
    "plt.ylabel('Frequency');\n",
    "plt.legend();"
   ]
  },
  {
   "cell_type": "markdown",
   "metadata": {},
   "source": [
    "# Discussion\n",
    "- A portion of the measured configurations and positions should be set aside for validation after calibration (i.e., optimization)\n",
    "    - This is to check the optimized model for overfitting\n",
    "- A calibrated robot model is never perfect in real life\n",
    "    - The goal is often to reduce the max error under a desired threshold\n",
    "- Small errors in the robot model can generate large errors in Cartesian position"
   ]
  }
 ],
 "metadata": {
  "kernelspec": {
   "display_name": "Python 3",
   "language": "python",
   "name": "python3"
  },
  "language_info": {
   "codemirror_mode": {
    "name": "ipython",
    "version": 3
   },
   "file_extension": ".py",
   "mimetype": "text/x-python",
   "name": "python",
   "nbconvert_exporter": "python",
   "pygments_lexer": "ipython3",
   "version": "3.6.4"
  }
 },
 "nbformat": 4,
 "nbformat_minor": 1
}
