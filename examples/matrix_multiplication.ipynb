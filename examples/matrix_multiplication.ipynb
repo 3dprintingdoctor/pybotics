{
 "cells": [
  {
   "cell_type": "code",
   "execution_count": 71,
   "metadata": {},
   "outputs": [
    {
     "name": "stdout",
     "output_type": "stream",
     "text": [
      "Platform: Darwin-16.7.0-x86_64-i386-64bit\n",
      "Machine: x86_64\n",
      "Python: 3.6.1 (default, Apr  4 2017, 09:40:21) \n",
      "[GCC 4.2.1 Compatible Apple LLVM 8.1.0 (clang-802.0.38)]\n",
      "NumPy: 1.12.1\n"
     ]
    }
   ],
   "source": [
    "import numpy as np\n",
    "import platform\n",
    "import sys\n",
    "import pybotics\n",
    "import numpy\n",
    "import scipy\n",
    "\n",
    "print('Platform: {}'.format(platform.platform()))\n",
    "print('Machine: {}'.format(platform.machine()))\n",
    "print('Python: {}'.format(sys.version))\n",
    "print('NumPy: {}'.format(numpy.__version__))"
   ]
  },
  {
   "cell_type": "code",
   "execution_count": 72,
   "metadata": {},
   "outputs": [],
   "source": [
    "# set up many homogeneous transformation matrices\n",
    "arrays = []\n",
    "for _ in range(60):\n",
    "    array = np.eye(4)\n",
    "    array[:3,:] = np.random.uniform(size=(3,4))\n",
    "    arrays.append(array)"
   ]
  },
  {
   "cell_type": "code",
   "execution_count": 73,
   "metadata": {},
   "outputs": [
    {
     "name": "stdout",
     "output_type": "stream",
     "text": [
      "144 µs ± 7.03 µs per loop (mean ± std. dev. of 7 runs, 10000 loops each)\n"
     ]
    }
   ],
   "source": [
    "# loop through matrix multiplication\n",
    "%%timeit\n",
    "loop_result = np.eye(4)\n",
    "for array in arrays:\n",
    "    loop_result = np.dot(loop_result, array)"
   ]
  },
  {
   "cell_type": "code",
   "execution_count": 74,
   "metadata": {},
   "outputs": [
    {
     "name": "stdout",
     "output_type": "stream",
     "text": [
      "91.4 ms ± 592 µs per loop (mean ± std. dev. of 7 runs, 10 loops each)\n"
     ]
    }
   ],
   "source": [
    "# use numpy's fastest evaluation order\n",
    "%%timeit\n",
    "func_result = np.linalg.multi_dot(arrays)"
   ]
  },
  {
   "cell_type": "code",
   "execution_count": 75,
   "metadata": {
    "scrolled": true
   },
   "outputs": [
    {
     "data": {
      "text/plain": [
       "True"
      ]
     },
     "execution_count": 75,
     "metadata": {},
     "output_type": "execute_result"
    }
   ],
   "source": [
    "# ensure we have the same result from all methods\n",
    "np.allclose(loop_result, func_result)"
   ]
  }
 ],
 "metadata": {
  "kernelspec": {
   "display_name": "Python 3",
   "language": "python",
   "name": "python3"
  },
  "language_info": {
   "codemirror_mode": {
    "name": "ipython",
    "version": 3
   },
   "file_extension": ".py",
   "mimetype": "text/x-python",
   "name": "python",
   "nbconvert_exporter": "python",
   "pygments_lexer": "ipython3",
   "version": "3.6.1"
  }
 },
 "nbformat": 4,
 "nbformat_minor": 2
}
