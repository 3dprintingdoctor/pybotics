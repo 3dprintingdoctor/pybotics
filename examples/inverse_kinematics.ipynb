{
 "cells": [
  {
   "cell_type": "markdown",
   "metadata": {},
   "source": [
    "# Imports & Setup"
   ]
  },
  {
   "cell_type": "code",
   "execution_count": 38,
   "metadata": {},
   "outputs": [],
   "source": [
    "# pybotics imports\n",
    "from pybotics.robot_model import UR10\n",
    "\n",
    "# arrays, vectors, and matrices\n",
    "import numpy as np\n",
    "np.set_printoptions(suppress=True, precision=3)"
   ]
  },
  {
   "cell_type": "markdown",
   "metadata": {},
   "source": [
    "# Initialize Robot Model\n",
    "- A robot model, at a very minimum, is a kinematic chain\n",
    "- The kinematic chain is defined by a series of parameters\n",
    "    - See [Modified DH parameters](https://en.wikipedia.org/wiki/Denavit%E2%80%93Hartenberg_parameters#Modified_DH_parameters) for more info"
   ]
  },
  {
   "cell_type": "code",
   "execution_count": 39,
   "metadata": {},
   "outputs": [],
   "source": [
    "robot = UR10()"
   ]
  },
  {
   "cell_type": "markdown",
   "metadata": {},
   "source": [
    "# Inverse Kinematics\n",
    "- In robotics, inverse kinematics (IK) makes use of the kinematics equations to determine the joint parameters that provide a desired position for the robot's end-effector.\n",
    "- The built-in IK method uses the pseudo-inverse of the Jacobian"
   ]
  },
  {
   "cell_type": "code",
   "execution_count": 40,
   "metadata": {},
   "outputs": [
    {
     "name": "stdout",
     "output_type": "stream",
     "text": [
      "Joint positions:\n",
      "[0.175 0.349 0.524 0.698 0.873 1.047]\n"
     ]
    }
   ],
   "source": [
    "robot.position = np.deg2rad([10,20,30,40,50,60])\n",
    "print('Joint positions:\\n{}'.format(robot.position))"
   ]
  },
  {
   "cell_type": "code",
   "execution_count": 41,
   "metadata": {},
   "outputs": [
    {
     "name": "stdout",
     "output_type": "stream",
     "text": [
      "Pose:\n",
      "[[  -0.786   -0.608    0.112 -776.144]\n",
      " [  -0.528    0.567   -0.633 -363.463]\n",
      " [   0.321   -0.557   -0.766 -600.056]\n",
      " [   0.       0.       0.       1.   ]]\n"
     ]
    }
   ],
   "source": [
    "pose = robot.fk()\n",
    "print('Pose:\\n{}'.format(pose))"
   ]
  },
  {
   "cell_type": "code",
   "execution_count": 42,
   "metadata": {},
   "outputs": [
    {
     "name": "stdout",
     "output_type": "stream",
     "text": [
      "Solved joint positions:\n",
      "[0.175 0.349 0.524 0.698 0.873 1.047]\n"
     ]
    }
   ],
   "source": [
    "solved_joints = robot.ik(pose)\n",
    "print('Solved joint positions:\\n{}'.format(solved_joints))"
   ]
  },
  {
   "cell_type": "markdown",
   "metadata": {},
   "source": [
    "# Define Your Own IK Method\n",
    "- Just define your own robot class or override the `ik()` method"
   ]
  },
  {
   "cell_type": "code",
   "execution_count": 43,
   "metadata": {},
   "outputs": [
    {
     "name": "stdout",
     "output_type": "stream",
     "text": [
      "Solved joint positions with my own IK (totally wrong):\n",
      "[1, 2, 3, 4, 5, 6]\n"
     ]
    }
   ],
   "source": [
    "def my_ik(pose):\n",
    "    return [1,2,3,4,5,6]\n",
    "\n",
    "robot.ik = my_ik\n",
    "solved_joints = robot.ik(pose)\n",
    "print('Solved joint positions with my own IK (totally wrong):\\n{}'.format(solved_joints))"
   ]
  }
 ],
 "metadata": {
  "kernelspec": {
   "display_name": "Python 3",
   "language": "python",
   "name": "python3"
  },
  "language_info": {
   "codemirror_mode": {
    "name": "ipython",
    "version": 3
   },
   "file_extension": ".py",
   "mimetype": "text/x-python",
   "name": "python",
   "nbconvert_exporter": "python",
   "pygments_lexer": "ipython3",
   "version": "3.6.4"
  }
 },
 "nbformat": 4,
 "nbformat_minor": 1
}
