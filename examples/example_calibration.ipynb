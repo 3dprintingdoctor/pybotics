{
 "cells": [
  {
   "cell_type": "code",
   "execution_count": 7,
   "metadata": {
    "collapsed": true
   },
   "outputs": [],
   "source": [
    "import pybotics as py\n",
    "import numpy as np\n",
    "import scipy.optimize\n",
    "import scipy.stats\n",
    "\n",
    "np.set_printoptions(precision=3)\n",
    "np.set_printoptions(suppress=True)"
   ]
  },
  {
   "cell_type": "markdown",
   "metadata": {},
   "source": [
    "# Init Robot"
   ]
  },
  {
   "cell_type": "code",
   "execution_count": 9,
   "metadata": {},
   "outputs": [
    {
     "name": "stdout",
     "output_type": "stream",
     "text": [
      "Robot Model:\n[[   0.       0.       0.     118.   ]\n [   1.571    0.       3.142    0.   ]\n [   0.     612.7      0.       0.   ]\n [   0.     571.6      0.     163.9  ]\n [  -1.571    0.       0.     115.7  ]\n [   1.571    0.       3.142   92.2  ]]\n"
     ]
    }
   ],
   "source": [
    "# load UR10 model for testing\n",
    "model = np.array([\n",
    "    0, 0, 0, 118,\n",
    "    1.5707963267949, 0, 3.14159265358979, 0,\n",
    "    0, 612.7, 0, 0,\n",
    "    0, 571.6, 0, 163.9,\n",
    "    - 1.5707963267949, 0, 0, 115.7,\n",
    "    1.5707963267949, 0, 3.14159265358979, 92.2\n",
    "]).reshape((-1, 4))\n",
    "robot = py.Robot(model)\n",
    "\n",
    "print('Robot Model:\\n{}'.format(robot.robot_model))"
   ]
  },
  {
   "cell_type": "markdown",
   "metadata": {},
   "source": [
    "# Init Tool"
   ]
  },
  {
   "cell_type": "code",
   "execution_count": 10,
   "metadata": {},
   "outputs": [],
   "source": [
    "nominal_tool_xyz = [100, 100, 50]\n",
    "real_tool_xyz = [99.123, 100.987, 51.192]"
   ]
  },
  {
   "cell_type": "markdown",
   "metadata": {},
   "source": [
    "# \"Real\" Measures"
   ]
  },
  {
   "cell_type": "code",
   "execution_count": 11,
   "metadata": {},
   "outputs": [],
   "source": [
    "# simulate real measures (this would actually be externally measured data)\n",
    "robot.set_tool_xyz(real_tool_xyz)\n",
    "\n",
    "joints = []\n",
    "torques = []\n",
    "positions = []\n",
    "for i in range(100):\n",
    "    robot.random_joints()\n",
    "    joints.append(robot.joint_angles)\n",
    "    torques.append([0] * robot.num_dof())\n",
    "    positions.append(robot.fk()[:-1, -1])\n"
   ]
  },
  {
   "cell_type": "markdown",
   "metadata": {},
   "source": [
    "# Calibrate Tool"
   ]
  },
  {
   "cell_type": "markdown",
   "metadata": {},
   "source": [
    "## Compute Initial Errors"
   ]
  },
  {
   "cell_type": "code",
   "execution_count": 12,
   "metadata": {},
   "outputs": [
    {
     "name": "stdout",
     "output_type": "stream",
     "text": [
      "Initial tool:\n[[   1.    0.    0.  100.]\n [   0.    1.    0.  100.]\n [   0.    0.    1.   50.]\n [   0.    0.    0.    1.]]\nInitial errors:\nDescribeResult(nobs=100, minmax=(1.7795090709430685, 1.7795090709432604), mean=1.7795090709431611, variance=9.2519788284247579e-28, skewness=-0.03484375749420982, kurtosis=1.2081119707559465)\n"
     ]
    }
   ],
   "source": [
    "# use nominal tool as seed for calibration\n",
    "robot.set_tool_xyz(nominal_tool_xyz)\n",
    "\n",
    "initial_errors = py.calibration.compute_absolute_errors(robot=robot,\n",
    "                                                        joints=joints,\n",
    "                                                        torques=torques,\n",
    "                                                        positions=positions,\n",
    "                                                        reference_frame=robot.world_frame\n",
    "                                                        )\n",
    "print('Initial tool:\\n{}'.format(robot.tool.tcp))\n",
    "print('Initial errors:\\n{}'.format(scipy.stats.describe(initial_errors)))"
   ]
  },
  {
   "cell_type": "markdown",
   "metadata": {},
   "source": [
    "## Calibrate Using Least Squares"
   ]
  },
  {
   "cell_type": "code",
   "execution_count": 13,
   "metadata": {},
   "outputs": [
    {
     "name": "stdout",
     "output_type": "stream",
     "text": [
      "Calibrated tool:\n[  99.123  100.988   51.193]\n"
     ]
    }
   ],
   "source": [
    "# set calibration mask\n",
    "tool_mask = [True] * 6\n",
    "tool_mask[3] = False\n",
    "tool_mask[4] = False\n",
    "tool_mask[5] = False\n",
    "\n",
    "optimization_mask = robot.generate_optimization_mask(tool_mask=tool_mask)\n",
    "optimization_vector = robot.generate_optimization_vector(optimization_mask)\n",
    "\n",
    "# calibrate\n",
    "optimize_result = scipy.optimize.leastsq(func=py.calibration.calibration_fitness_func,\n",
    "                                         x0=optimization_vector,\n",
    "                                         args=(\n",
    "                                             optimization_mask,\n",
    "                                             robot,\n",
    "                                             joints,\n",
    "                                             torques,\n",
    "                                             positions,\n",
    "                                             robot.world_frame,\n",
    "                                             'abs',\n",
    "                                             'list'\n",
    "                                         ))\n",
    "\n",
    "# process results\n",
    "calibrated_tool = optimize_result[0]\n",
    "print('Calibrated tool:\\n{}'.format(calibrated_tool))"
   ]
  }
 ],
 "metadata": {
  "kernelspec": {
   "display_name": "Python 2",
   "language": "python",
   "name": "python2"
  },
  "language_info": {
   "codemirror_mode": {
    "name": "ipython",
    "version": 2.0
   },
   "file_extension": ".py",
   "mimetype": "text/x-python",
   "name": "python",
   "nbconvert_exporter": "python",
   "pygments_lexer": "ipython2",
   "version": "2.7.6"
  }
 },
 "nbformat": 4,
 "nbformat_minor": 0
}