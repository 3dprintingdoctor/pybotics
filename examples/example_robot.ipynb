{
 "cells": [
  {
   "cell_type": "heading",
   "metadata": {
    "collapsed": true
   },
   "level": 1,
   "source": [
    "Example: Basic Robot"
   ]
  },
  {
   "cell_type": "heading",
   "metadata": {},
   "level": 2,
   "source": [
    "Setup"
   ]
  },
  {
   "cell_type": "code",
   "execution_count": null,
   "metadata": {},
   "outputs": [],
   "source": [
    "import copy\n",
    "\n",
    "from pybotics import robot_model\n",
    "from pybotics.robot import Robot\n",
    "import numpy as np\n",
    "\n",
    "# set numpy print options\n",
    "np.set_printoptions(precision=3)\n",
    "np.set_printoptions(suppress=True)"
   ]
  },
  {
   "cell_type": "heading",
   "metadata": {},
   "level": 2,
   "source": [
    "Robot Object"
   ]
  },
  {
   "cell_type": "code",
   "execution_count": null,
   "metadata": {},
   "outputs": [],
   "source": [
    "# create robot\n",
    "ideal_robot = Robot()\n",
    "ideal_robot.robot_model = robot_model.ur10()\n",
    "\n",
    "# create pseudo-realistic robot with kinematic errors\n",
    "real_robot = copy.deepcopy(ideal_robot)\n",
    "real_robot.impair_robot_model()\n",
    "\n",
    "print('Ideal Robot Model:\\n', ideal_robot.robot_model, '\\n')\n",
    "print('Pseudo-Real Robot Model:\\n', real_robot.robot_model, '\\n')"
   ]
  },
  {
   "cell_type": "heading",
   "metadata": {},
   "level": 2,
   "source": [
    "Forward Kinematics"
   ]
  },
  {
   "cell_type": "code",
   "execution_count": null,
   "metadata": {},
   "outputs": [],
   "source": [
    "# demonstrate forward kinematics\n",
    "joints = [0, 0, 0, 0, 0, 0]\n",
    "\n",
    "print('Ideal Pose:\\n', ideal_robot.fk(joints), '\\n')\n",
    "print('Pseudo-Real Pose:\\n', real_robot.fk(joints), '\\n')"
   ]
  },
  {
   "cell_type": "code",
   "execution_count": null,
   "outputs": [],
   "source": [
    ""
   ]
  }
 ],
 "metadata": {
  "kernelspec": {
   "display_name": "Python 2",
   "language": "python",
   "name": "python2"
  },
  "language_info": {
   "codemirror_mode": {
    "name": "ipython",
    "version": 2.0
   },
   "file_extension": ".py",
   "mimetype": "text/x-python",
   "name": "python",
   "nbconvert_exporter": "python",
   "pygments_lexer": "ipython2",
   "version": "2.7.6"
  }
 },
 "nbformat": 4,
 "nbformat_minor": 0
}