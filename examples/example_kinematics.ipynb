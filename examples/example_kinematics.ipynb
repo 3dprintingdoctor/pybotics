{
 "cells": [
  {
   "cell_type": "code",
   "execution_count": null,
   "metadata": {
    "collapsed": true
   },
   "outputs": [],
   "source": [
    "import pybotics as py\n",
    "import numpy as np\n",
    "\n",
    "np.set_printoptions(precision=3)\n",
    "np.set_printoptions(suppress=True)"
   ]
  },
  {
   "cell_type": "markdown",
   "metadata": {},
   "source": [
    "# Init Robot"
   ]
  },
  {
   "cell_type": "code",
   "execution_count": null,
   "metadata": {},
   "outputs": [],
   "source": [
    "# load UR10 model for testing\n",
    "model = np.array([\n",
    "    0, 0, 0, 118,\n",
    "    1.5707963267949, 0, 3.14159265358979, 0,\n",
    "    0, 612.7, 0, 0,\n",
    "    0, 571.6, 0, 163.9,\n",
    "    - 1.5707963267949, 0, 0, 115.7,\n",
    "    1.5707963267949, 0, 3.14159265358979, 92.2\n",
    "]).reshape((-1, 4))\n",
    "robot = py.Robot(model)\n",
    "\n",
    "print('Robot Model:\\n{}'.format(robot.robot_model))"
   ]
  },
  {
   "cell_type": "markdown",
   "metadata": {},
   "source": [
    "# Forward Kinematics"
   ]
  },
  {
   "cell_type": "code",
   "execution_count": null,
   "metadata": {},
   "outputs": [],
   "source": [
    "robot.joint_angles = [0] * robot.num_dof()\n",
    "pose = robot.fk()\n",
    "\n",
    "print('Pose:\\n{}'.format(pose))\n"
   ]
  },
  {
   "cell_type": "markdown",
   "metadata": {},
   "source": [
    "# Inverse Kinematics"
   ]
  },
  {
   "cell_type": "code",
   "execution_count": null,
   "metadata": {},
   "outputs": [],
   "source": [
    "new_joints = robot.ik(pose)\n",
    "print('Solved Joints:\\n{}'.format(new_joints))"
   ]
  }
 ],
 "metadata": {
  "kernelspec": {
   "display_name": "Python 2",
   "language": "python",
   "name": "python2"
  },
  "language_info": {
   "codemirror_mode": {
    "name": "ipython",
    "version": 2.0
   },
   "file_extension": ".py",
   "mimetype": "text/x-python",
   "name": "python",
   "nbconvert_exporter": "python",
   "pygments_lexer": "ipython2",
   "version": "2.7.6"
  }
 },
 "nbformat": 4,
 "nbformat_minor": 0
}