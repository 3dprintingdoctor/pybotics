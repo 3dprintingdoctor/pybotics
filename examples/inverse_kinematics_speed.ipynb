{
 "cells": [
  {
   "cell_type": "markdown",
   "metadata": {},
   "source": [
    "# Imports & Setup"
   ]
  },
  {
   "cell_type": "code",
   "execution_count": 1,
   "metadata": {},
   "outputs": [],
   "source": [
    "# pybotics imports\n",
    "from pybotics.robot_model import UR10\n",
    "\n",
    "# arrays, vectors, and matrices\n",
    "import numpy as np\n",
    "np.set_printoptions(suppress=True, precision=3)"
   ]
  },
  {
   "cell_type": "markdown",
   "metadata": {},
   "source": [
    "# Computation Speed"
   ]
  },
  {
   "cell_type": "code",
   "execution_count": 52,
   "metadata": {},
   "outputs": [
    {
     "name": "stdout",
     "output_type": "stream",
     "text": [
      "Desired joints: [0.017 0.    0.    0.    0.    0.   ]\n",
      "Seed joints: [0. 0. 0. 0. 0. 0.]\n",
      "Desired pose:\n",
      "[[    1.        0.        0.017 -1179.65 ]\n",
      " [    0.017     0.       -1.     -276.73 ]\n",
      " [   -0.        1.        0.        2.3  ]\n",
      " [    0.        0.        0.        1.   ]]\n"
     ]
    }
   ],
   "source": [
    "robot = UR10()\n",
    "\n",
    "q = np.zeros(robot.num_dof)\n",
    "q[0] = np.deg2rad(1)\n",
    "print('Desired joints: {}'.format(q))\n",
    "\n",
    "q_seed = np.zeros(robot.num_dof)\n",
    "print('Seed joints: {}'.format(q_seed))\n",
    "\n",
    "pose = robot.fk(q)\n",
    "print('Desired pose:\\n{}'.format(pose))"
   ]
  },
  {
   "cell_type": "markdown",
   "metadata": {},
   "source": [
    "## Built-in Method"
   ]
  },
  {
   "cell_type": "code",
   "execution_count": 116,
   "metadata": {},
   "outputs": [
    {
     "name": "stderr",
     "output_type": "stream",
     "text": [
      "WARNING:root:Maximum number of iterations reached\n"
     ]
    }
   ],
   "source": [
    "# very slow for 6-axis robot...\n",
    "q_actual = robot.ik(pose, q=q_seed, max_iter=10, alpha=10)"
   ]
  },
  {
   "cell_type": "code",
   "execution_count": 118,
   "metadata": {},
   "outputs": [
    {
     "name": "stdout",
     "output_type": "stream",
     "text": [
      "Joints diff:\n",
      "[-0.733  1.887  2.761 -1.926  0.217 -1.27 ]\n",
      "Pose diff:\n",
      "[[    0.952    -0.851    -0.505 -1471.529]\n",
      " [   -0.114    -0.513    -0.152  -201.665]\n",
      " [    0.99      0.89      0.088  -225.107]\n",
      " [    0.        0.        0.        0.   ]]\n"
     ]
    }
   ],
   "source": [
    "print('Joints diff:\\n{}'.format(q-q_actual))\n",
    "print('Pose diff:\\n{}'.format(pose-robot.fk(q_actual)))"
   ]
  },
  {
   "cell_type": "markdown",
   "metadata": {},
   "source": [
    "## SciPy Optimization"
   ]
  },
  {
   "cell_type": "code",
   "execution_count": 78,
   "metadata": {},
   "outputs": [],
   "source": [
    "from scipy.optimize import leastsq, minimize\n",
    "from pybotics.geometry import matrix_2_euler_zyx\n",
    "import numpy as np\n",
    "\n",
    "def fitness_func(q, robot, pose):\n",
    "    desired_vector = matrix_2_euler_zyx(pose)\n",
    "    \n",
    "    current_pose = robot.fk(q)\n",
    "    current_vector = matrix_2_euler_zyx(current_pose)\n",
    "    \n",
    "    vector_diff = desired_vector - current_vector\n",
    "    return vector_diff\n",
    "\n",
    "def fitness_func_scalar(q, robot, pose):\n",
    "    x = fitness_func(q, robot, pose)\n",
    "    return np.sum(np.square(x))"
   ]
  },
  {
   "cell_type": "markdown",
   "metadata": {},
   "source": [
    "### `leastsq`"
   ]
  },
  {
   "cell_type": "code",
   "execution_count": 93,
   "metadata": {},
   "outputs": [
    {
     "data": {
      "text/plain": [
       "(array([ 0.017,  0.   ,  0.   ,  0.   ,  0.   , -0.   ]), 2)"
      ]
     },
     "execution_count": 93,
     "metadata": {},
     "output_type": "execute_result"
    }
   ],
   "source": [
    "q_actual = leastsq(fitness_func, q_seed, args=(robot, pose))\n",
    "q_actual"
   ]
  },
  {
   "cell_type": "code",
   "execution_count": 105,
   "metadata": {
    "scrolled": true
   },
   "outputs": [
    {
     "name": "stdout",
     "output_type": "stream",
     "text": [
      "Joints diff:\n",
      "[ 0.  0. -0.  0.  0. -0.]\n",
      "Pose diff:\n",
      "[[ 0. -0. -0. -0.]\n",
      " [-0.  0. -0. -0.]\n",
      " [ 0.  0.  0.  0.]\n",
      " [ 0.  0.  0.  0.]]\n"
     ]
    }
   ],
   "source": [
    "print('Joints diff:\\n{}'.format(q-q_actual.x))\n",
    "print('Pose diff:\\n{}'.format(pose-robot.fk(q_actual.x)))"
   ]
  },
  {
   "cell_type": "code",
   "execution_count": 62,
   "metadata": {},
   "outputs": [
    {
     "name": "stdout",
     "output_type": "stream",
     "text": [
      "18.1 ms ± 1.51 ms per loop (mean ± std. dev. of 5 runs, 5 loops each)\n"
     ]
    }
   ],
   "source": [
    "%%timeit -n 5 -r 5\n",
    "leastsq(fitness_func, q_seed, args=(robot, pose))"
   ]
  },
  {
   "cell_type": "markdown",
   "metadata": {},
   "source": [
    "### `minimize(method=’Nelder-Mead’)`"
   ]
  },
  {
   "cell_type": "code",
   "execution_count": 97,
   "metadata": {
    "scrolled": true
   },
   "outputs": [
    {
     "data": {
      "text/plain": [
       " final_simplex: (array([[ 0.017,  0.001, -0.002,  0.004,  0.004, -0.014],\n",
       "       [ 0.017,  0.001, -0.002,  0.004,  0.004, -0.014],\n",
       "       [ 0.017,  0.001, -0.002,  0.004,  0.004, -0.014],\n",
       "       [ 0.017,  0.001, -0.002,  0.004,  0.004, -0.014],\n",
       "       [ 0.017,  0.001, -0.002,  0.004,  0.004, -0.014],\n",
       "       [ 0.017,  0.001, -0.002,  0.004,  0.004, -0.014],\n",
       "       [ 0.017,  0.001, -0.002,  0.004,  0.004, -0.014]]), array([0., 0., 0., 0., 0., 0., 0.]))\n",
       "           fun: 0.00018137016527255886\n",
       "       message: 'Optimization terminated successfully.'\n",
       "          nfev: 256\n",
       "           nit: 151\n",
       "        status: 0\n",
       "       success: True\n",
       "             x: array([ 0.017,  0.001, -0.002,  0.004,  0.004, -0.014])"
      ]
     },
     "execution_count": 97,
     "metadata": {},
     "output_type": "execute_result"
    }
   ],
   "source": [
    "q_actual = minimize(fitness_func_scalar, q_seed, args=(robot, pose), method='Nelder-Mead')\n",
    "q_actual"
   ]
  },
  {
   "cell_type": "code",
   "execution_count": 104,
   "metadata": {
    "scrolled": true
   },
   "outputs": [
    {
     "name": "stdout",
     "output_type": "stream",
     "text": [
      "Joints diff:\n",
      "[ 0.  0. -0.  0.  0. -0.]\n",
      "Pose diff:\n",
      "[[ 0. -0. -0. -0.]\n",
      " [-0.  0. -0. -0.]\n",
      " [ 0.  0.  0.  0.]\n",
      " [ 0.  0.  0.  0.]]\n"
     ]
    }
   ],
   "source": [
    "print('Joints diff:\\n{}'.format(q-q_actual.x))\n",
    "print('Pose diff:\\n{}'.format(pose-robot.fk(q_actual.x)))"
   ]
  },
  {
   "cell_type": "code",
   "execution_count": 112,
   "metadata": {
    "scrolled": true
   },
   "outputs": [
    {
     "name": "stdout",
     "output_type": "stream",
     "text": [
      "122 ms ± 15.9 ms per loop (mean ± std. dev. of 5 runs, 5 loops each)\n"
     ]
    }
   ],
   "source": [
    "%%timeit -n 5 -r 5\n",
    "minimize(fitness_func_scalar, q_seed, args=(robot, pose), method='Nelder-Mead')"
   ]
  },
  {
   "cell_type": "markdown",
   "metadata": {},
   "source": [
    "### `minimize(method=’Powell’)`"
   ]
  },
  {
   "cell_type": "code",
   "execution_count": 99,
   "metadata": {
    "scrolled": true
   },
   "outputs": [
    {
     "data": {
      "text/plain": [
       "   direc: array([[ 0.,  0.,  0.,  0.,  0.,  1.],\n",
       "       [-0., -0.,  0.,  0.,  0., -0.],\n",
       "       [ 0.,  0.,  1.,  0.,  0.,  0.],\n",
       "       [ 0.,  0.,  0.,  1.,  0.,  0.],\n",
       "       [ 0.,  0.,  0.,  0.,  1.,  0.],\n",
       "       [ 0.,  0., -0., -0.,  0.,  0.]])\n",
       "     fun: 7.231922700377718e-17\n",
       " message: 'Optimization terminated successfully.'\n",
       "    nfev: 622\n",
       "     nit: 8\n",
       "  status: 0\n",
       " success: True\n",
       "       x: array([ 0.017, -0.   ,  0.   , -0.   , -0.   ,  0.   ])"
      ]
     },
     "execution_count": 99,
     "metadata": {},
     "output_type": "execute_result"
    }
   ],
   "source": [
    "q_actual = minimize(fitness_func_scalar, q_seed, args=(robot, pose), method='Powell')\n",
    "q_actual"
   ]
  },
  {
   "cell_type": "code",
   "execution_count": 103,
   "metadata": {
    "scrolled": true
   },
   "outputs": [
    {
     "name": "stdout",
     "output_type": "stream",
     "text": [
      "Joints diff:\n",
      "[ 0.  0. -0.  0.  0. -0.]\n",
      "Pose diff:\n",
      "[[ 0. -0. -0. -0.]\n",
      " [-0.  0. -0. -0.]\n",
      " [ 0.  0.  0.  0.]\n",
      " [ 0.  0.  0.  0.]]\n"
     ]
    }
   ],
   "source": [
    "print('Joints diff:\\n{}'.format(q-q_actual.x))\n",
    "print('Pose diff:\\n{}'.format(pose-robot.fk(q_actual.x)))"
   ]
  },
  {
   "cell_type": "code",
   "execution_count": 113,
   "metadata": {
    "scrolled": true
   },
   "outputs": [
    {
     "name": "stdout",
     "output_type": "stream",
     "text": [
      "255 ms ± 3.54 ms per loop (mean ± std. dev. of 5 runs, 5 loops each)\n"
     ]
    }
   ],
   "source": [
    "%%timeit -n 5 -r 5\n",
    "minimize(fitness_func_scalar, q_seed, args=(robot, pose), method='Powell')"
   ]
  },
  {
   "cell_type": "markdown",
   "metadata": {},
   "source": [
    "### `minimize(method=’L-BFGS-B’)`"
   ]
  },
  {
   "cell_type": "code",
   "execution_count": 106,
   "metadata": {
    "scrolled": true
   },
   "outputs": [
    {
     "data": {
      "text/plain": [
       "      fun: 3.135500321451823e-11\n",
       " hess_inv: <6x6 LbfgsInvHessProduct with dtype=float64>\n",
       "      jac: array([ 0.004,  0.008,  0.   ,  0.   , -0.   ,  0.   ])\n",
       "  message: b'CONVERGENCE: REL_REDUCTION_OF_F_<=_FACTR*EPSMCH'\n",
       "     nfev: 203\n",
       "      nit: 13\n",
       "   status: 0\n",
       "  success: True\n",
       "        x: array([ 0.017, -0.   ,  0.   ,  0.   ,  0.   , -0.   ])"
      ]
     },
     "execution_count": 106,
     "metadata": {},
     "output_type": "execute_result"
    }
   ],
   "source": [
    "q_actual = minimize(fitness_func_scalar, q_seed, args=(robot, pose), method='L-BFGS-B')\n",
    "q_actual"
   ]
  },
  {
   "cell_type": "code",
   "execution_count": 107,
   "metadata": {
    "scrolled": false
   },
   "outputs": [
    {
     "name": "stdout",
     "output_type": "stream",
     "text": [
      "Joints diff:\n",
      "[ 0.  0. -0. -0. -0.  0.]\n",
      "Pose diff:\n",
      "[[-0.  0.  0. -0.]\n",
      " [ 0.  0.  0. -0.]\n",
      " [-0.  0.  0. -0.]\n",
      " [ 0.  0.  0.  0.]]\n"
     ]
    }
   ],
   "source": [
    "print('Joints diff:\\n{}'.format(q-q_actual.x))\n",
    "print('Pose diff:\\n{}'.format(pose-robot.fk(q_actual.x)))"
   ]
  },
  {
   "cell_type": "code",
   "execution_count": 114,
   "metadata": {
    "scrolled": true
   },
   "outputs": [
    {
     "name": "stdout",
     "output_type": "stream",
     "text": [
      "81.7 ms ± 3.35 ms per loop (mean ± std. dev. of 5 runs, 5 loops each)\n"
     ]
    }
   ],
   "source": [
    "%%timeit -n 5 -r 5\n",
    "minimize(fitness_func_scalar, q_seed, args=(robot, pose), method='L-BFGS-B')"
   ]
  }
 ],
 "metadata": {
  "kernelspec": {
   "display_name": "Python 3",
   "language": "python",
   "name": "python3"
  },
  "language_info": {
   "codemirror_mode": {
    "name": "ipython",
    "version": 3
   },
   "file_extension": ".py",
   "mimetype": "text/x-python",
   "name": "python",
   "nbconvert_exporter": "python",
   "pygments_lexer": "ipython3",
   "version": "3.6.4"
  }
 },
 "nbformat": 4,
 "nbformat_minor": 1
}
