{
 "cells": [
  {
   "cell_type": "markdown",
   "metadata": {},
   "source": [
    "# Imports & Setup"
   ]
  },
  {
   "cell_type": "code",
   "execution_count": 1,
   "metadata": {
    "collapsed": true
   },
   "outputs": [],
   "source": [
    "from pybotics import Robot, KinematicChain\n",
    "import numpy as np\n",
    "import os\n",
    "\n",
    "np.set_printoptions(suppress=True, precision=3)"
   ]
  },
  {
   "cell_type": "code",
   "execution_count": 2,
   "metadata": {},
   "outputs": [
    {
     "name": "stdout",
     "output_type": "stream",
     "text": [
      "..\\robot-models\\ur10-mdh.csv\n"
     ]
    }
   ],
   "source": [
    "repo_root_path = os.path.dirname(os.getcwd())\n",
    "robot_models_dir_path = os.path.join(repo_root_path, 'robot-models')\n",
    "ur10_mdh_path = os.path.join(robot_models_dir_path, 'ur10-mdh.csv')\n",
    "print(os.path.relpath(ur10_mdh_path))"
   ]
  },
  {
   "cell_type": "markdown",
   "metadata": {},
   "source": [
    "# Initialize Robot Model\n",
    "- A robot model, at a very minimum, is a kinematic chain\n",
    "- The kinematic chain is defined by a series of parameters\n",
    "    - See [Modified DH parameters](https://en.wikipedia.org/wiki/Denavit%E2%80%93Hartenberg_parameters#Modified_DH_parameters) for more info"
   ]
  },
  {
   "cell_type": "code",
   "execution_count": 3,
   "metadata": {
    "collapsed": true
   },
   "outputs": [],
   "source": [
    "mdh = np.loadtxt(ur10_mdh_path, delimiter=',')\n",
    "kc = KinematicChain.from_array(mdh)\n",
    "robot = Robot(kc)"
   ]
  },
  {
   "cell_type": "markdown",
   "metadata": {},
   "source": [
    "# Forward Kinematics\n",
    "- The forward kinematics (FK) refer to the use of the kinematic equations of a robot to compute the pose of the end-effector (i.e., 4x4 transform matrix) from specified values for the joint parameters (i.e., joint angles)"
   ]
  },
  {
   "cell_type": "code",
   "execution_count": 4,
   "metadata": {},
   "outputs": [
    {
     "name": "stdout",
     "output_type": "stream",
     "text": [
      "Pose:\n",
      "[[  -0.786   -0.608    0.112 -776.144]\n",
      " [  -0.528    0.567   -0.633 -363.463]\n",
      " [   0.321   -0.557   -0.766 -600.056]\n",
      " [   0.       0.       0.       1.   ]]\n"
     ]
    }
   ],
   "source": [
    "robot.position = np.deg2rad([10,20,30,40,50,60])\n",
    "pose = robot.fk()\n",
    "\n",
    "print('Pose:\\n{}'.format(pose))"
   ]
  }
 ],
 "metadata": {
  "kernelspec": {
   "display_name": "Python 3",
   "language": "python",
   "name": "python3"
  },
  "language_info": {
   "codemirror_mode": {
    "name": "ipython",
    "version": 3
   },
   "file_extension": ".py",
   "mimetype": "text/x-python",
   "name": "python",
   "nbconvert_exporter": "python",
   "pygments_lexer": "ipython3",
   "version": "3.6.1"
  }
 },
 "nbformat": 4,
 "nbformat_minor": 1
}
