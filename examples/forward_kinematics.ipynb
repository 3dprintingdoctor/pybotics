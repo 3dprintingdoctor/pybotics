{
 "cells": [
  {
   "cell_type": "markdown",
   "metadata": {},
   "source": [
    "# Imports"
   ]
  },
  {
   "cell_type": "code",
   "execution_count": 1,
   "metadata": {
    "collapsed": true
   },
   "outputs": [],
   "source": [
    "from pybotics import Robot, KinematicChain\n",
    "import numpy as np\n",
    "import os\n",
    "\n",
    "np.set_printoptions(suppress=True)"
   ]
  },
  {
   "cell_type": "markdown",
   "metadata": {},
   "source": [
    "# Paths"
   ]
  },
  {
   "cell_type": "code",
   "execution_count": 2,
   "metadata": {},
   "outputs": [
    {
     "name": "stdout",
     "output_type": "stream",
     "text": [
      "..\\robot-models\\ur10-mdh.csv\n"
     ]
    }
   ],
   "source": [
    "repo_root_path = os.path.dirname(os.getcwd())\n",
    "robot_models_dir_path = os.path.join(repo_root_path, 'robot-models')\n",
    "ur10_mdh_path = os.path.join(robot_models_dir_path, 'ur10-mdh.csv')\n",
    "print(os.path.relpath(ur10_mdh_path))"
   ]
  },
  {
   "cell_type": "markdown",
   "metadata": {},
   "source": [
    "# Initialize Robot Model"
   ]
  },
  {
   "cell_type": "code",
   "execution_count": 8,
   "metadata": {},
   "outputs": [],
   "source": [
    "mdh = np.loadtxt(ur10_mdh_path, delimiter=',')\n",
    "kc = KinematicChain.from_array(mdh)\n",
    "robot = Robot(kc)"
   ]
  },
  {
   "cell_type": "markdown",
   "metadata": {},
   "source": [
    "# Forward Kinematics"
   ]
  },
  {
   "cell_type": "code",
   "execution_count": 7,
   "metadata": {},
   "outputs": [
    {
     "name": "stdout",
     "output_type": "stream",
     "text": [
      "Pose:\n",
      "[[  -0.78635742   -0.6076045     0.1116189  -776.14378378]\n",
      " [  -0.52758699    0.56651111   -0.63302222 -363.46278772]\n",
      " [   0.3213938    -0.5566704    -0.76604444 -600.05604316]\n",
      " [   0.            0.            0.            1.        ]]\n"
     ]
    }
   ],
   "source": [
    "robot.position = np.deg2rad([10,20,30,40,50,60])\n",
    "pose = robot.fk()\n",
    "\n",
    "print('Pose:\\n{}'.format(pose))"
   ]
  }
 ],
 "metadata": {
  "kernelspec": {
   "display_name": "Python 3",
   "language": "python",
   "name": "python3"
  },
  "language_info": {
   "codemirror_mode": {
    "name": "ipython",
    "version": 3
   },
   "file_extension": ".py",
   "mimetype": "text/x-python",
   "name": "python",
   "nbconvert_exporter": "python",
   "pygments_lexer": "ipython3",
   "version": "3.6.1"
  }
 },
 "nbformat": 4,
 "nbformat_minor": 1
}
